{
 "cells": [
  {
   "cell_type": "code",
   "execution_count": 32,
   "metadata": {},
   "outputs": [],
   "source": [
    "from splinter import Browser\n",
    "from bs4 import BeautifulSoup\n",
    "from webdriver_manager.chrome import ChromeDriverManager\n",
    "import time\n",
    "import pandas as pd"
   ]
  },
  {
   "cell_type": "code",
   "execution_count": 2,
   "metadata": {},
   "outputs": [],
   "source": [
    "nasa_scrape = {}"
   ]
  },
  {
   "cell_type": "code",
   "execution_count": 3,
   "metadata": {},
   "outputs": [
    {
     "name": "stderr",
     "output_type": "stream",
     "text": [
      "[WDM] - ====== WebDriver manager ======\n",
      "[WDM] - Current google-chrome version is 89.0.4389\n",
      "[WDM] - Get LATEST driver version for 89.0.4389\n",
      "[WDM] - There is no [win32] chromedriver for browser 89.0.4389 in cache\n",
      "[WDM] - Get LATEST driver version for 89.0.4389\n"
     ]
    },
    {
     "name": "stdout",
     "output_type": "stream",
     "text": [
      "\n",
      "\n"
     ]
    },
    {
     "name": "stderr",
     "output_type": "stream",
     "text": [
      "[WDM] - Trying to download new driver from https://chromedriver.storage.googleapis.com/89.0.4389.23/chromedriver_win32.zip\n",
      "[WDM] - Driver has been saved in cache [C:\\Users\\JerBear\\.wdm\\drivers\\chromedriver\\win32\\89.0.4389.23]\n"
     ]
    }
   ],
   "source": [
    "nasa_url = 'https://mars.nasa.gov/news/?page=0&per_page=40&order=publish_date+desc%2Ccreated_at+desc&search=&category=19%2C165%2C184%2C204&blank_scope=Latest'\n",
    "\n",
    "executable_path = {'executable_path': ChromeDriverManager().install()}\n",
    "browser = Browser('chrome', **executable_path, headless=False)\n",
    "\n",
    "browser.visit(nasa_url)"
   ]
  },
  {
   "cell_type": "code",
   "execution_count": 15,
   "metadata": {},
   "outputs": [],
   "source": [
    "html = browser.html\n",
    "soup = BeautifulSoup(html, \"html.parser\")\n",
    "soup\n",
    "slide_element = soup.select_one(\"ul.item_list li.slide\")"
   ]
  },
  {
   "cell_type": "markdown",
   "metadata": {},
   "source": [
    "## NASA Titles Search"
   ]
  },
  {
   "cell_type": "code",
   "execution_count": 16,
   "metadata": {},
   "outputs": [
    {
     "name": "stdout",
     "output_type": "stream",
     "text": [
      "Perseverance Rover's SuperCam Science Instrument Delivers First Results\n"
     ]
    }
   ],
   "source": [
    "#NASA Titles Search\n",
    "news_title = slide_element.find(\"div\", class_=\"content_title\").get_text()\n",
    "print(news_title)"
   ]
  },
  {
   "cell_type": "markdown",
   "metadata": {},
   "source": [
    "## NASA Paragraph Text Search"
   ]
  },
  {
   "cell_type": "code",
   "execution_count": 19,
   "metadata": {},
   "outputs": [
    {
     "data": {
      "text/plain": [
       "'Data from the powerful science tool includes sounds of its laser zapping a rock in order to test what it’s made of.'"
      ]
     },
     "execution_count": 19,
     "metadata": {},
     "output_type": "execute_result"
    }
   ],
   "source": [
    "#NASA Titles Paragraph Text Search\n",
    "news_p = slide_element.find('div',class_='article_teaser_body').get_text()\n",
    "news_p"
   ]
  },
  {
   "cell_type": "markdown",
   "metadata": {},
   "source": [
    "## Image Search"
   ]
  },
  {
   "cell_type": "code",
   "execution_count": 20,
   "metadata": {},
   "outputs": [
    {
     "name": "stderr",
     "output_type": "stream",
     "text": [
      "[WDM] - ====== WebDriver manager ======\n",
      "[WDM] - Current google-chrome version is 89.0.4389\n",
      "[WDM] - Get LATEST driver version for 89.0.4389\n",
      "[WDM] - Driver [C:\\Users\\JerBear\\.wdm\\drivers\\chromedriver\\win32\\89.0.4389.23\\chromedriver.exe] found in cache\n"
     ]
    },
    {
     "name": "stdout",
     "output_type": "stream",
     "text": [
      "\n",
      "\n"
     ]
    }
   ],
   "source": [
    "#Image Search\n",
    "jpl_url = 'https://data-class-jpl-space.s3.amazonaws.com/JPL_Space/index.html'\n",
    "\n",
    "executable_path = {'executable_path': ChromeDriverManager().install()}\n",
    "browser = Browser('chrome', **executable_path, headless=False)\n",
    "\n",
    "browser.visit(jpl_url)"
   ]
  },
  {
   "cell_type": "code",
   "execution_count": 21,
   "metadata": {},
   "outputs": [
    {
     "data": {
      "text/plain": [
       "<html class=\"\"><head>\n",
       "<meta charset=\"utf-8\"/>\n",
       "<meta content=\"width=device-width, initial-scale=1\" name=\"viewport\"/>\n",
       "<link href=\"https://maxcdn.bootstrapcdn.com/bootstrap/4.0.0/css/bootstrap.min.css\" rel=\"stylesheet\"/>\n",
       "<!-- <link rel=\"stylesheet\" type=\"text/css\" href=\"css/font.css\"> -->\n",
       "<link href=\"css/app.css\" rel=\"stylesheet\" type=\"text/css\"/>\n",
       "<link href=\"https://stackpath.bootstrapcdn.com/font-awesome/4.7.0/css/font-awesome.min.css\" rel=\"stylesheet\" type=\"text/css\"/>\n",
       "<title>Space Image</title>\n",
       "<style type=\"text/css\">.fancybox-margin{margin-right:17px;}</style></head>\n",
       "<body>\n",
       "<div class=\"header\">\n",
       "<nav class=\"navbar navbar-expand-lg\">\n",
       "<a class=\"navbar-brand\" href=\"#\"><img id=\"logo\" src=\"image/nasa.png\"/><span class=\"logo\">Jet Propulsion Laboratory</span>\n",
       "<span class=\"logo1\">California Institute of Technology</span></a>\n",
       "<button aria-controls=\"navbarNav\" aria-expanded=\"false\" aria-label=\"Toggle navigation\" class=\"navbar-toggler\" data-target=\"#navbarNav\" data-toggle=\"collapse\" type=\"button\">\n",
       "<span class=\"navbar-toggler-icon\"></span>\n",
       "</button>\n",
       "<div class=\"collapse navbar-collapse justify-content-end\" id=\"navbarNav\">\n",
       "<ul class=\"navbar-nav\">\n",
       "<li class=\"nav-item active\">\n",
       "<a class=\"nav-link\" href=\"#\"><i aria-hidden=\"true\" class=\"fa fa-bars\"></i>   MENU   <i aria-hidden=\"true\" class=\"fa fa-search\"></i></a>\n",
       "</li>\n",
       "</ul>\n",
       "</div>\n",
       "</nav>\n",
       "<div class=\"floating_text_area\">\n",
       "<h2 class=\"brand_title\">FEATURED IMAGE</h2>\n",
       "<h1 class=\"media_feature_title\">Dusty Space Cloud</h1>\n",
       "<br/>\n",
       "<a class=\"showimg fancybox-thumbs\" href=\"image/featured/mars1.jpg\" target=\"_blank\"> <button class=\"btn btn-outline-light\"> FULL IMAGE</button></a>\n",
       "</div>\n",
       "<img class=\"headerimage fade-in\" src=\"image/featured/mars1.jpg\"/></div>\n",
       "<div class=\"search sticky\">\n",
       "<div class=\"col-md-12\">\n",
       "<div class=\"row\">\n",
       "<div class=\"col-md-6\">\n",
       "<input name=\"Search\" placeholder=\"Search\" type=\"text\"/>\n",
       "</div>\n",
       "<div class=\"col-md-6\">\n",
       "<select aria-label=\"Default select example\" class=\"form-select\" id=\"options\">\n",
       "<option onchange=\"0\" selected=\"\">Mars</option>\n",
       "<!-- <option data-filter=\"sun\" class=\"button\">Mars</option> -->\n",
       "<option class=\"button\" data-filter=\"Sun\">Sun</option>\n",
       "<option class=\"button\" data-filter=\"earth\">Earth</option>\n",
       "<option class=\"button\" data-filter=\"ida\">Ida</option>\n",
       "<option class=\"button\" data-filter=\"jupiter\">Jupiter</option>\n",
       "<option class=\"button\" data-filter=\"venus\">Venus</option>\n",
       "</select>\n",
       "</div>\n",
       "</div>\n",
       "</div>\n",
       "</div>\n",
       "<div class=\"container mt-5\">\n",
       "<div class=\"col-md-12\">\n",
       "<div class=\"row\">\n",
       "<div class=\"col-md-6\">\n",
       "<h1>Images</h1>\n",
       "</div>\n",
       "<div class=\"col-md-6\" id=\"icon\">\n",
       "<div class=\"icon2\"></div>\n",
       "<div class=\"icon1\"></div>\n",
       "</div>\n",
       "</div>\n",
       "</div>\n",
       "<!-- first div -->\n",
       "<div class=\"div1\" id=\"filter\">\n",
       "<div class=\"thmbgroup\"><a class=\"fancybox-thumbs\" data-fancybox-group=\"thumb\" href=\"image/mars/Icaria Fossae7.jpg\"><div class=\"thmb\"><img alt=\"\" class=\"thumbimg\" src=\"image/mars/Icaria Fossae7.jpg\"/><p class=\"thumbcontent\">January 1, 2020<br/>Icaria Fossae7</p></div></a><a class=\"fancybox-thumbs\" data-fancybox-group=\"thumb\" href=\"image/mars/Proctor Crater Dunes 7.jpg\"><div class=\"thmb\"><img alt=\"\" class=\"thumbimg\" src=\"image/mars/Proctor Crater Dunes 7.jpg\"/><p class=\"thumbcontent\">December 31, 2020<br/>Proctor Crater Dunes</p></div></a><a class=\"fancybox-thumbs\" data-fancybox-group=\"thumb\" href=\"image/mars/Icaria Fossae7.jpg\"><div class=\"thmb\"><img alt=\"\" class=\"thumbimg\" src=\"image/mars/Icaria Fossae7.jpg\"/><p class=\"thumbcontent\">December 31, 2020<br/>Icaria Fossae</p></div></a><a class=\"fancybox-thumbs\" data-fancybox-group=\"thumb\" href=\"image/mars/Proctor Crater Dunes 7.jpg\"><div class=\"thmb\"><img alt=\"\" class=\"thumbimg\" src=\"image/mars/Proctor Crater Dunes 7.jpg\"/><p class=\"thumbcontent\">December 29, 2020<br/>Proctor Crater Dunes</p></div></a><a class=\"fancybox-thumbs\" data-fancybox-group=\"thumb\" href=\"image/mars/Proctor Crater Dunes 7.jpg\"><div class=\"thmb\"><img alt=\"\" class=\"thumbimg\" src=\"image/mars/Proctor Crater Dunes 7.jpg\"/><p class=\"thumbcontent\">December 28, 2020<br/>roctor Crater Dunes</p></div></a><a class=\"fancybox-thumbs\" data-fancybox-group=\"thumb\" href=\"image/mars/Icaria Fossae7.jpg\"><div class=\"thmb\"><img alt=\"\" class=\"thumbimg\" src=\"image/mars/Icaria Fossae7.jpg\"/><p class=\"thumbcontent\">December 22, 2020<br/>Icaria Fossae</p></div></a><a class=\"fancybox-thumbs\" data-fancybox-group=\"thumb\" href=\"image/mars/Icaria Fossae.jpg\"><div class=\"thmb\"><img alt=\"\" class=\"thumbimg\" src=\"image/mars/Icaria Fossae.jpg\"/><p class=\"thumbcontent\">December 21, 2020<br/>Icaria Fossae</p></div></a><a class=\"fancybox-thumbs\" data-fancybox-group=\"thumb\" href=\"image/mars/Ariadnes Colles4.jpg\"><div class=\"thmb\"><img alt=\"\" class=\"thumbimg\" src=\"image/mars/Ariadnes Colles4.jpg\"/><p class=\"thumbcontent\">December 18, 2020<br/>Ariadnes Colles</p></div></a><a class=\"fancybox-thumbs\" data-fancybox-group=\"thumb\" href=\"image/mars/Niger Vallis.jpg\"><div class=\"thmb\"><img alt=\"\" class=\"thumbimg\" src=\"image/mars/Niger Vallis.jpg\"/><p class=\"thumbcontent\">December 17, 2020<br/>Niger Vallis</p></div></a><a class=\"fancybox-thumbs\" data-fancybox-group=\"thumb\" href=\"image/mars/Proctor Crater Dunes.jpg\"><div class=\"thmb\"><img alt=\"\" class=\"thumbimg\" src=\"image/mars/Proctor Crater Dunes.jpg\"/><p class=\"thumbcontent\">December 16, 2020<br/>Proctor Crater Dunes</p></div></a><a class=\"fancybox-thumbs\" data-fancybox-group=\"thumb\" href=\"image/mars/Niger Vallis.jpg\"><div class=\"thmb\"><img alt=\"\" class=\"thumbimg\" src=\"image/mars/Niger Vallis.jpg\"/><p class=\"thumbcontent\">December 15, 2020<br/>Niger Vallis</p></div></a><a class=\"fancybox-thumbs\" data-fancybox-group=\"thumb\" href=\"image/mars/Daedalia Planum.jpg\"><div class=\"thmb\"><img alt=\"\" class=\"thumbimg\" src=\"image/mars/Daedalia Planum.jpg\"/><p class=\"thumbcontent\">December 11, 2020<br/>Daedalia Planum</p></div></a><a class=\"fancybox-thumbs\" data-fancybox-group=\"thumb\" href=\"image/mars/Sirenum Fossae.jpg\"><div class=\"thmb\"><img alt=\"\" class=\"thumbimg\" src=\"image/mars/Sirenum Fossae.jpg\"/><p class=\"thumbcontent\">November,11, 2020<br/>Sirenum Fossae</p></div></a><a class=\"fancybox-thumbs\" data-fancybox-group=\"thumb\" href=\"image/mars/Ariadnes Colles4.jpg\"><div class=\"thmb\"><img alt=\"\" class=\"thumbimg\" src=\"image/mars/Ariadnes Colles4.jpg\"/><p class=\"thumbcontent\">November,13, 2020<br/>Ariadnes Colles</p></div></a><a class=\"fancybox-thumbs\" data-fancybox-group=\"thumb\" href=\"image/mars/South Polar Cap.jpg\"><div class=\"thmb\"><img alt=\"\" class=\"thumbimg\" src=\"image/mars/South Polar Cap.jpg\"/><p class=\"thumbcontent\">November,14, 2020<br/>South Polar Cap</p></div></a><a class=\"fancybox-thumbs\" data-fancybox-group=\"thumb\" href=\"image/mars/Daedalia Planum.jpg\"><div class=\"thmb\"><img alt=\"\" class=\"thumbimg\" src=\"image/mars/Daedalia Planum.jpg\"/><p class=\"thumbcontent\">November,17, 2020<br/>Daedalia Planum</p></div></a><a class=\"fancybox-thumbs\" data-fancybox-group=\"thumb\" href=\"image/mars/Ariadnes Colles3.jpg\"><div class=\"thmb\"><img alt=\"\" class=\"thumbimg\" src=\"image/mars/Ariadnes Colles3.jpg\"/><p class=\"thumbcontent\">November,11, 2020<br/>Ariadnes Colles</p></div></a><a class=\"fancybox-thumbs\" data-fancybox-group=\"thumb\" href=\"image/mars/Atlantis Chaos.jpg\"><div class=\"thmb\"><img alt=\"\" class=\"thumbimg\" src=\"image/mars/Atlantis Chaos.jpg\"/><p class=\"thumbcontent\">November,09, 2020<br/>Atlantis Chaos</p></div></a><a class=\"fancybox-thumbs\" data-fancybox-group=\"thumb\" href=\"image/mars/Daedalia Planum.jpg\"><div class=\"thmb\"><img alt=\"\" class=\"thumbimg\" src=\"image/mars/Daedalia Planum.jpg\"/><p class=\"thumbcontent\">January 1, 2020<br/>Daedalia Planum</p></div></a><a class=\"fancybox-thumbs\" data-fancybox-group=\"thumb\" href=\"image/mars/Icaria Fossae.jpg\"><div class=\"thmb\"><img alt=\"\" class=\"thumbimg\" src=\"image/mars/Icaria Fossae.jpg\"/><p class=\"thumbcontent\">January 1, 2020<br/>Icaria Fossae</p></div></a><a class=\"fancybox-thumbs\" data-fancybox-group=\"thumb\" href=\"image/mars/Niger Vallis.jpg\"><div class=\"thmb\"><img alt=\"\" class=\"thumbimg\" src=\"image/mars/Niger Vallis.jpg\"/><p class=\"thumbcontent\">January 1, 2020<br/>Niger Vallis</p></div></a><a class=\"fancybox-thumbs\" data-fancybox-group=\"thumb\" href=\"image/mars/Proctor Crater Dunes.jpg\"><div class=\"thmb\"><img alt=\"\" class=\"thumbimg\" src=\"image/mars/Proctor Crater Dunes.jpg\"/><p class=\"thumbcontent\">January 1, 2020<br/>Proctor Crater Dunes</p></div></a><a class=\"fancybox-thumbs\" data-fancybox-group=\"thumb\" href=\"image/mars/Reull Vallis.jpg\"><div class=\"thmb\"><img alt=\"\" class=\"thumbimg\" src=\"image/mars/Reull Vallis.jpg\"/><p class=\"thumbcontent\">January 1, 2020<br/>Reull Vallis</p></div></a><a class=\"fancybox-thumbs\" data-fancybox-group=\"thumb\" href=\"image/mars/Ariadnes Colles3.jpg\"><div class=\"thmb\"><img alt=\"\" class=\"thumbimg\" src=\"image/mars/Ariadnes Colles3.jpg\"/><p class=\"thumbcontent\">January 1, 2020<br/>Ariadnes Colles</p></div></a><a class=\"fancybox-thumbs\" data-fancybox-group=\"thumb\" href=\"image/mars/Sirenum Fossae.jpg\"><div class=\"thmb\"><img alt=\"\" class=\"thumbimg\" src=\"image/mars/Sirenum Fossae.jpg\"/><p class=\"thumbcontent\">January 1, 2020<br/>Sirenum Fossae</p></div></a><a class=\"fancybox-thumbs\" data-fancybox-group=\"thumb\" href=\"image/mars/South Polar Cap.jpg\"><div class=\"thmb\"><img alt=\"\" class=\"thumbimg\" src=\"image/mars/South Polar Cap.jpg\"/><p class=\"thumbcontent\">January 1, 2020<br/>South Polar Cap</p></div></a><a class=\"fancybox-thumbs\" data-fancybox-group=\"thumb\" href=\"image/mars/Niger Vallis.jpg\"><div class=\"thmb\"><img alt=\"\" class=\"thumbimg\" src=\"image/mars/Niger Vallis.jpg\"/><p class=\"thumbcontent\">January 1, 2020<br/>Niger Vallis</p></div></a><a class=\"fancybox-thumbs\" data-fancybox-group=\"thumb\" href=\"image/mars/Daedalia Planum.jpg\"><div class=\"thmb\"><img alt=\"\" class=\"thumbimg\" src=\"image/mars/Daedalia Planum.jpg\"/><p class=\"thumbcontent\">January 1, 2020<br/>Daedalia Planum</p></div></a><a class=\"fancybox-thumbs\" data-fancybox-group=\"thumb\" href=\"image/mars/Icaria Fossae.jpg\"><div class=\"thmb\"><img alt=\"\" class=\"thumbimg\" src=\"image/mars/Icaria Fossae.jpg\"/><p class=\"thumbcontent\">January 1, 2020<br/>Icaria Fossae</p></div></a><a class=\"fancybox-thumbs\" data-fancybox-group=\"thumb\" href=\"image/mars/Ariadnes Colles4.jpg\"><div class=\"thmb\"><img alt=\"\" class=\"thumbimg\" src=\"image/mars/Ariadnes Colles4.jpg\"/><p class=\"thumbcontent\">January 1, 2020<br/>Ariadnes Colles</p></div></a><a class=\"fancybox-thumbs\" data-fancybox-group=\"thumb\" href=\"image/mars/South Polar Cap.jpg\"><div class=\"thmb\"><img alt=\"\" class=\"thumbimg\" src=\"image/mars/South Polar Cap.jpg\"/><p class=\"thumbcontent\">January 1, 2020<br/>South Polar Cap</p></div></a><a class=\"fancybox-thumbs\" data-fancybox-group=\"thumb\" href=\"image/mars/Daedalia Planum.jpg\"><div class=\"thmb\"><img alt=\"\" class=\"thumbimg\" src=\"image/mars/Daedalia Planum.jpg\"/><p class=\"thumbcontent\">January 1, 2020<br/>Daedalia Planum</p></div></a></div>\n",
       "</div>\n",
       "<!-- first div ends -->\n",
       "<!-- second div starts -->\n",
       "<div class=\"col-md-12 grid-margin\" id=\"column\">\n",
       "<ul class=\"post-list\">\n",
       "<li class=\"post-heading\"></li>\n",
       "</ul>\n",
       "</div>\n",
       "<!-- second div starts -->\n",
       "</div>\n",
       "<div class=\"first imgcontainer mt-3\">\n",
       "<div class=\"col-md-12\">\n",
       "<div class=\"row\">\n",
       "<div class=\"col-md-3\">\n",
       "<img id=\"pic\" src=\"\"/>\n",
       "</div>\n",
       "</div>\n",
       "</div>\n",
       "</div>\n",
       "<!-- end -->\n",
       "<div class=\"module_gallery container\">\n",
       "<div class=\"col-md-12\">\n",
       "<div class=\"row\">\n",
       "<div class=\"col-md-6\">\n",
       "<div class=\"card\">\n",
       "<img alt=\"Card image cap\" class=\"card-img-top\" src=\"https://www.jpl.nasa.gov/assets/images/content/tmp/images/jpl_photojournal(3x1).jpg\"/>\n",
       "<div class=\"card-body\">\n",
       "<h5 class=\"card-title\">JPL Photojournal</h5>\n",
       "<p class=\"card-text\">Access to the full library of publicly released images from various Solar System exploration programs</p>\n",
       "</div>\n",
       "</div>\n",
       "</div>\n",
       "<div class=\"col-md-6\">\n",
       "<div class=\"card\">\n",
       "<img alt=\"Card image cap\" class=\"card-img-top\" src=\"https://www.jpl.nasa.gov/assets/images/content/tmp/images/nasa_images(3x1).jpg\"/>\n",
       "<div class=\"card-body\">\n",
       "<h5 class=\"card-title\">Great images in NASA</h5>\n",
       "<p class=\"card-text\">A selection of the best-known images from a half-century of exploration and discovery</p>\n",
       "</div>\n",
       "</div>\n",
       "</div>\n",
       "</div>\n",
       "</div>\n",
       "</div>\n",
       "<div class=\"multi_teaser\">\n",
       "<div class=\"container\">\n",
       "<h1>You Might Also Like</h1>\n",
       "<div class=\"col-md-12 mt-5\">\n",
       "<div class=\"row\">\n",
       "<div class=\"col-md-4\">\n",
       "<div class=\"card\">\n",
       "<img alt=\"Card image cap\" class=\"card-img-top\" src=\"https://imagecache.jpl.nasa.gov/images/640x350/C1-PIA24304---CatScanMars-16-640x350.gif\"/>\n",
       "<div class=\"card-body\">\n",
       "<p class=\"card-text\">Access to the full library of publicly released images from various Solar System exploration programs</p>\n",
       "</div>\n",
       "</div>\n",
       "</div>\n",
       "<div class=\"col-md-4\">\n",
       "<div class=\"card\">\n",
       "<img alt=\"Card image cap\" class=\"card-img-top\" src=\"https://imagecache.jpl.nasa.gov/images/640x350/PIA23491-16-640x350.jpg\"/>\n",
       "<div class=\"card-body\">\n",
       "<p class=\"card-text\">Access to the full library of publicly released images from various Solar System exploration programs</p>\n",
       "</div>\n",
       "</div>\n",
       "</div>\n",
       "<div class=\"col-md-4\">\n",
       "<div class=\"card\">\n",
       "<img alt=\"Card image cap\" class=\"card-img-top\" src=\"https://imagecache.jpl.nasa.gov/images/640x350/C1-PIA23180-16-640x350.gif\"/>\n",
       "<div class=\"card-body\">\n",
       "<p class=\"card-text\">Access to the full library of publicly released images from various Solar System exploration programs</p>\n",
       "</div>\n",
       "</div>\n",
       "</div>\n",
       "</div>\n",
       "</div>\n",
       "</div>\n",
       "</div>\n",
       "<div class=\"footer\">\n",
       "<div class=\"container\">\n",
       "<div class=\"col-md-12\">\n",
       "<div class=\"row\">\n",
       "<div class=\"col-md-3\">\n",
       "<h4>About JPL</h4>\n",
       "<ul>\n",
       "<li>About JPL</li>\n",
       "<li>JPL Vision</li>\n",
       "<li>Executive Council</li>\n",
       "<li>History</li>\n",
       "</ul>\n",
       "</div>\n",
       "<div class=\"col-md-3\">\n",
       "<h4>Education</h4>\n",
       "<ul>\n",
       "<li>Intern</li>\n",
       "<li>Learn</li>\n",
       "<li>Teach</li>\n",
       "<li>News</li>\n",
       "</ul>\n",
       "</div>\n",
       "<div class=\"col-md-3\">\n",
       "<h4>Our Sites</h4>\n",
       "<ul>\n",
       "<li>Asteroid Watch</li>\n",
       "<li>Basics of Spaceflight</li>\n",
       "<li>Cassini - Mission to Saturn</li>\n",
       "<li>Climate Kids</li>\n",
       "</ul>\n",
       "</div>\n",
       "<div class=\"col-md-3\">\n",
       "<h4>Galleries</h4>\n",
       "<ul>\n",
       "<li>JPL Space Images</li>\n",
       "<li>Videos</li>\n",
       "<li>Infographics</li>\n",
       "<li>Photojournal</li>\n",
       "</ul>\n",
       "</div>\n",
       "</div>\n",
       "</div>\n",
       "</div>\n",
       "</div>\n",
       "<!--<div class=\"showFullimage\">\n",
       "\t<button class=\"btn btn-outline-light hideimage\" onclick=hideimage()> Close</button>\n",
       "\t<img class=\"fullimage fade-in\" src=\"\">\n",
       "</div>-->\n",
       "<!-- <script src=\"js/jquery.easeScroll.js\"></script>  -->\n",
       "<script src=\"js/jquery-3.5.1.min.js\"></script>\n",
       "<!-- <script src=\"js/jquery-3.2.1.slim.min.js\"></script> -->\n",
       "<script src=\"js/demo.js\"></script>\n",
       "<!-- <script src=\"js/app.js\"></script> -->\n",
       "<script src=\"https://cdnjs.cloudflare.com/ajax/libs/popper.js/1.12.9/umd/popper.min.js\"></script>\n",
       "<script src=\"https://maxcdn.bootstrapcdn.com/bootstrap/4.0.0/js/bootstrap.min.js\"></script>\n",
       "<script src=\"js/fancyBox/jquery.fancybox.pack.js?v=2.1.5\" type=\"text/javascript\"></script>\n",
       "<link href=\"js/fancyBox/jquery.fancybox.css?v=2.1.5\" media=\"screen\" rel=\"stylesheet\" type=\"text/css\"/>\n",
       "<link href=\"js/fancyBox/helpers/jquery.fancybox-thumbs.css?v=1.0.7\" rel=\"stylesheet\" type=\"text/css\"/>\n",
       "<script src=\"js/fancyBox/helpers/jquery.fancybox-thumbs.js?v=1.0.7\" type=\"text/javascript\"></script>\n",
       "</body></html>"
      ]
     },
     "execution_count": 21,
     "metadata": {},
     "output_type": "execute_result"
    }
   ],
   "source": [
    "html = browser.html\n",
    "soup = BeautifulSoup(html, \"html.parser\")\n",
    "soup"
   ]
  },
  {
   "cell_type": "markdown",
   "metadata": {},
   "source": [
    "## Image URL Extract"
   ]
  },
  {
   "cell_type": "code",
   "execution_count": 22,
   "metadata": {},
   "outputs": [],
   "source": [
    "#Image URL extract\n",
    "pic_search = soup.find_all('img', {'class' :'headerimage'})\n",
    "pic_search\n",
    "\n",
    "for link in pic_search:\n",
    "    img_path = (link.get('src'))"
   ]
  },
  {
   "cell_type": "code",
   "execution_count": 23,
   "metadata": {},
   "outputs": [
    {
     "data": {
      "text/plain": [
       "'https://data-class-jpl-space.s3.amazonaws.com/JPL_Space/image/featured/mars1.jpg'"
      ]
     },
     "execution_count": 23,
     "metadata": {},
     "output_type": "execute_result"
    }
   ],
   "source": [
    "base_jpl_url = 'https://data-class-jpl-space.s3.amazonaws.com/JPL_Space/'\n",
    "\n",
    "featured_img_url = base_jpl_url + img_path\n",
    "featured_img_url"
   ]
  },
  {
   "cell_type": "markdown",
   "metadata": {},
   "source": [
    "## Mars Fact Table"
   ]
  },
  {
   "cell_type": "code",
   "execution_count": 28,
   "metadata": {},
   "outputs": [
    {
     "name": "stderr",
     "output_type": "stream",
     "text": [
      "[WDM] - ====== WebDriver manager ======\n",
      "[WDM] - Current google-chrome version is 89.0.4389\n",
      "[WDM] - Get LATEST driver version for 89.0.4389\n",
      "[WDM] - Driver [C:\\Users\\JerBear\\.wdm\\drivers\\chromedriver\\win32\\89.0.4389.23\\chromedriver.exe] found in cache\n"
     ]
    },
    {
     "name": "stdout",
     "output_type": "stream",
     "text": [
      "\n",
      "\n"
     ]
    },
    {
     "data": {
      "text/plain": [
       "<html lang=\"en-US\"><head><meta charset=\"utf-8\"/><meta content=\"width=device-width, initial-scale=1\" name=\"viewport\"/><link href=\"https://gmpg.org/xfn/11\" rel=\"profile\"/><link href=\"https://space-facts.com/wp/xmlrpc.php\" rel=\"pingback\"/><link as=\"font\" crossorigin=\"\" href=\"https://space-facts.com/wp-content/themes/gridbox/assets/fonts/roboto-slab-v7-latin-ext_latin-700.woff2\" rel=\"preload\" type=\"font/woff2\"/><link as=\"font\" crossorigin=\"\" href=\"https://space-facts.com/wp-content/themes/gridbox/assets/fonts/roboto-v18-latin-ext_latin-regular.woff2\" rel=\"preload\" type=\"font/woff2\"/><link as=\"font\" crossorigin=\"\" href=\"https://space-facts.com/wp-content/themes/gridbox/assets/fonts/roboto-v18-latin-ext_latin-700.woff2\" rel=\"preload\" type=\"font/woff2\"/><link as=\"font\" crossorigin=\"\" href=\"https://space-facts.com/wp-content/themes/gridbox/assets/fonts/roboto-v18-latin-ext_latin-italic.woff2\" rel=\"preload\" type=\"font/woff2\"/><meta content=\"max-image-preview:large, index, follow, max-snippet:-1, max-video-preview:-1\" name=\"robots\"/><meta content=\"OI26qBRJ2SI673vDUn_KgAd_H89WIX3IEgf6TZbhgDs\" name=\"google-site-verification\"/><meta content=\"988097676DFC89A04403B1F262C0F731\" name=\"msvalidate.01\"/><link href=\"https://space-facts.com/wp-content/cache/autoptimize/css/autoptimize_a3584b469fd400c1308e451d445cdea1.css\" media=\"all\" rel=\"stylesheet\"/><title>Mars Facts - Interesting Facts about Planet Mars</title><link href=\"https://space-facts.com/mars/\" rel=\"canonical\"/><meta content=\"en_US\" property=\"og:locale\"/><meta content=\"article\" property=\"og:type\"/><meta content=\"Mars Facts - Interesting Facts about Planet Mars\" property=\"og:title\"/><meta content=\"Mars is the fourth planet from the Sun and is the second smallest planet in the solar system. Named after the Roman god of war,\" property=\"og:description\"/><meta content=\"https://space-facts.com/mars/\" property=\"og:url\"/><meta content=\"Space Facts\" property=\"og:site_name\"/><meta content=\"2020-05-21T11:16:22+00:00\" property=\"article:modified_time\"/><meta content=\"https://space-facts.com/wp-content/uploads/mars.jpg\" property=\"og:image\"/><meta content=\"700\" property=\"og:image:width\"/><meta content=\"700\" property=\"og:image:height\"/><meta content=\"summary\" name=\"twitter:card\"/><meta content=\"Est. reading time\" name=\"twitter:label1\"/><meta content=\"4 minutes\" name=\"twitter:data1\"/> <script src=\"https://www.googletagservices.com/activeview/js/current/osd.js?cb=%2Fr20100101\"></script><script src=\"https://partner.googleadservices.com/gampad/cookie.js?domain=space-facts.com&amp;callback=_gfp_s_&amp;client=ca-pub-4251889121233823\"></script><script id=\"google_shimpl\" src=\"https://pagead2.googlesyndication.com/pagead/js/r20210309/r20190131/show_ads_impl_fy2019.js\"></script><script class=\"yoast-schema-graph\" type=\"application/ld+json\">{\"@context\":\"https://schema.org\",\"@graph\":[{\"@type\":\"Organization\",\"@id\":\"https://space-facts.com/#organization\",\"name\":\"Space Facts\",\"url\":\"https://space-facts.com/\",\"sameAs\":[],\"logo\":{\"@type\":\"ImageObject\",\"@id\":\"https://space-facts.com/#logo\",\"inLanguage\":\"en-US\",\"url\":\"https://space-facts.com/wp-content/uploads/space-facts-logo.png\",\"width\":184,\"height\":80,\"caption\":\"Space Facts\"},\"image\":{\"@id\":\"https://space-facts.com/#logo\"}},{\"@type\":\"WebSite\",\"@id\":\"https://space-facts.com/#website\",\"url\":\"https://space-facts.com/\",\"name\":\"Space Facts\",\"description\":\"\",\"publisher\":{\"@id\":\"https://space-facts.com/#organization\"},\"potentialAction\":[{\"@type\":\"SearchAction\",\"target\":\"https://space-facts.com/?s={search_term_string}\",\"query-input\":\"required name=search_term_string\"}],\"inLanguage\":\"en-US\"},{\"@type\":\"ImageObject\",\"@id\":\"https://space-facts.com/mars/#primaryimage\",\"inLanguage\":\"en-US\",\"url\":\"https://space-facts.com/wp-content/uploads/mars.jpg\",\"width\":700,\"height\":700,\"caption\":\"Mars\"},{\"@type\":\"WebPage\",\"@id\":\"https://space-facts.com/mars/#webpage\",\"url\":\"https://space-facts.com/mars/\",\"name\":\"Mars Facts - Interesting Facts about Planet Mars\",\"isPartOf\":{\"@id\":\"https://space-facts.com/#website\"},\"primaryImageOfPage\":{\"@id\":\"https://space-facts.com/mars/#primaryimage\"},\"datePublished\":\"2015-10-20T13:08:28+00:00\",\"dateModified\":\"2020-05-21T11:16:22+00:00\",\"breadcrumb\":{\"@id\":\"https://space-facts.com/mars/#breadcrumb\"},\"inLanguage\":\"en-US\",\"potentialAction\":[{\"@type\":\"ReadAction\",\"target\":[\"https://space-facts.com/mars/\"]}]},{\"@type\":\"BreadcrumbList\",\"@id\":\"https://space-facts.com/mars/#breadcrumb\",\"itemListElement\":[{\"@type\":\"ListItem\",\"position\":1,\"item\":{\"@type\":\"WebPage\",\"@id\":\"https://space-facts.com/\",\"url\":\"https://space-facts.com/\",\"name\":\"Home\"}},{\"@type\":\"ListItem\",\"position\":2,\"item\":{\"@type\":\"WebPage\",\"@id\":\"https://space-facts.com/mars/\",\"url\":\"https://space-facts.com/mars/\",\"name\":\"Mars Facts\"}}]}]}</script> <link href=\"//space-facts.com\" rel=\"dns-prefetch\"/><link href=\"//s.w.org\" rel=\"dns-prefetch\"/><link href=\"https://space-facts.com/feed/\" rel=\"alternate\" title=\"Space Facts » Feed\" type=\"application/rss+xml\"/><link href=\"https://space-facts.com/comments/feed/\" rel=\"alternate\" title=\"Space Facts » Comments Feed\" type=\"application/rss+xml\"/> <script type=\"text/javascript\">window._wpemojiSettings = {\"baseUrl\":\"https:\\/\\/s.w.org\\/images\\/core\\/emoji\\/13.0.1\\/72x72\\/\",\"ext\":\".png\",\"svgUrl\":\"https:\\/\\/s.w.org\\/images\\/core\\/emoji\\/13.0.1\\/svg\\/\",\"svgExt\":\".svg\",\"source\":{\"concatemoji\":\"https:\\/\\/space-facts.com\\/wp\\/wp-includes\\/js\\/wp-emoji-release.min.js?ver=5.7\"}};\n",
       "\t\t\t!function(e,a,t){var n,r,o,i=a.createElement(\"canvas\"),p=i.getContext&&i.getContext(\"2d\");function s(e,t){var a=String.fromCharCode;p.clearRect(0,0,i.width,i.height),p.fillText(a.apply(this,e),0,0);e=i.toDataURL();return p.clearRect(0,0,i.width,i.height),p.fillText(a.apply(this,t),0,0),e===i.toDataURL()}function c(e){var t=a.createElement(\"script\");t.src=e,t.defer=t.type=\"text/javascript\",a.getElementsByTagName(\"head\")[0].appendChild(t)}for(o=Array(\"flag\",\"emoji\"),t.supports={everything:!0,everythingExceptFlag:!0},r=0;r<o.length;r++)t.supports[o[r]]=function(e){if(!p||!p.fillText)return!1;switch(p.textBaseline=\"top\",p.font=\"600 32px Arial\",e){case\"flag\":return s([127987,65039,8205,9895,65039],[127987,65039,8203,9895,65039])?!1:!s([55356,56826,55356,56819],[55356,56826,8203,55356,56819])&&!s([55356,57332,56128,56423,56128,56418,56128,56421,56128,56430,56128,56423,56128,56447],[55356,57332,8203,56128,56423,8203,56128,56418,8203,56128,56421,8203,56128,56430,8203,56128,56423,8203,56128,56447]);case\"emoji\":return!s([55357,56424,8205,55356,57212],[55357,56424,8203,55356,57212])}return!1}(o[r]),t.supports.everything=t.supports.everything&&t.supports[o[r]],\"flag\"!==o[r]&&(t.supports.everythingExceptFlag=t.supports.everythingExceptFlag&&t.supports[o[r]]);t.supports.everythingExceptFlag=t.supports.everythingExceptFlag&&!t.supports.flag,t.DOMReady=!1,t.readyCallback=function(){t.DOMReady=!0},t.supports.everything||(n=function(){t.readyCallback()},a.addEventListener?(a.addEventListener(\"DOMContentLoaded\",n,!1),e.addEventListener(\"load\",n,!1)):(e.attachEvent(\"onload\",n),a.attachEvent(\"onreadystatechange\",function(){\"complete\"===a.readyState&&t.readyCallback()})),(n=t.source||{}).concatemoji?c(n.concatemoji):n.wpemoji&&n.twemoji&&(c(n.twemoji),c(n.wpemoji)))}(window,document,window._wpemojiSettings);</script><script defer=\"\" src=\"https://space-facts.com/wp/wp-includes/js/wp-emoji-release.min.js?ver=5.7\" type=\"text/javascript\"></script> <link href=\"https://space-facts.com/wp-content/cache/autoptimize/css/autoptimize_single_767868fb05c15b1f1a43d26fb915105c.css?ver=23eb21\" id=\"megamenu-css\" media=\"all\" rel=\"stylesheet\" type=\"text/css\"/><link href=\"https://space-facts.com/wp/wp-includes/css/dashicons.min.css?ver=5.7\" id=\"dashicons-css\" media=\"all\" rel=\"stylesheet\" type=\"text/css\"/> <script id=\"jetpack_related-posts-js-extra\" type=\"text/javascript\">var related_posts_js_options = {\"post_heading\":\"h4\"};</script> <!--[if lt IE 9]> <script type='text/javascript' src='https://space-facts.com/wp-content/themes/gridbox/assets/js/html5shiv.min.js?ver=3.7.3' id='html5shiv-js'></script> <![endif]--> <script id=\"jquery-core-js\" src=\"https://space-facts.com/wp/wp-includes/js/jquery/jquery.min.js?ver=3.5.1\" type=\"text/javascript\"></script> <link href=\"https://space-facts.com/wp-json/\" rel=\"https://api.w.org/\"/><link href=\"https://space-facts.com/wp-json/wp/v2/pages/7\" rel=\"alternate\" type=\"application/json\"/><link href=\"https://space-facts.com/wp/xmlrpc.php?rsd\" rel=\"EditURI\" title=\"RSD\" type=\"application/rsd+xml\"/><link href=\"https://space-facts.com/wp/wp-includes/wlwmanifest.xml\" rel=\"wlwmanifest\" type=\"application/wlwmanifest+xml\"/><meta content=\"WordPress 5.7\" name=\"generator\"/><link href=\"https://space-facts.com/?p=7\" rel=\"shortlink\"/><link href=\"https://space-facts.com/wp-json/oembed/1.0/embed?url=https%3A%2F%2Fspace-facts.com%2Fmars%2F\" rel=\"alternate\" type=\"application/json+oembed\"/><link href=\"https://space-facts.com/wp-json/oembed/1.0/embed?url=https%3A%2F%2Fspace-facts.com%2Fmars%2F&amp;format=xml\" rel=\"alternate\" type=\"text/xml+oembed\"/> <!--[if lt IE 9]><link rel=\"stylesheet\" href=\"https://space-facts.com/wp-content/plugins/lightweight-grid-columns/css/ie.min.css\" /> <![endif]--><link href=\"https://space-facts.com/wp-content/uploads/favicon-50x50.png\" rel=\"icon\" sizes=\"32x32\"/><link href=\"https://space-facts.com/wp-content/uploads/favicon.png\" rel=\"icon\" sizes=\"192x192\"/><link href=\"https://space-facts.com/wp-content/uploads/favicon.png\" rel=\"apple-touch-icon\"/><meta content=\"https://space-facts.com/wp-content/uploads/favicon.png\" name=\"msapplication-TileImage\"/> <script>window.ga=window.ga||function(){(ga.q=ga.q||[]).push(arguments)};ga.l=+new Date;\n",
       "ga('create', 'UA-32348920-1', 'auto');\n",
       "ga('send', 'pageview');</script> <script async=\"\" src=\"https://www.google-analytics.com/analytics.js\"></script> <script async=\"\" src=\"https://pagead2.googlesyndication.com/pagead/js/adsbygoogle.js\"></script> <script>(adsbygoogle = window.adsbygoogle || []).push({\n",
       "          google_ad_client: \"ca-pub-4251889121233823\",\n",
       "          enable_page_level_ads: true\n",
       "     });</script> <meta content=\"A+b/H0b8RPXNaJgaNFpO0YOFuGK6myDQXlwnJB3SwzvNMfcndat4DZYMrP4ClJIzYWo3/yP2S+8FTZ/lpqbPAAEAAABueyJvcmlnaW4iOiJodHRwczovL2ltYXNkay5nb29nbGVhcGlzLmNvbTo0NDMiLCJmZWF0dXJlIjoiVHJ1c3RUb2tlbnMiLCJleHBpcnkiOjE2MjYyMjA3OTksImlzVGhpcmRQYXJ0eSI6dHJ1ZX0=\" http-equiv=\"origin-trial\"/><meta content=\"A9ZgbRtm4pU3oZiuNzOsKcC8ppFSZdcjP2qYcdQrFKVzkmiWH1kdYY1Mi9x7G8+PS8HV9Ha9Cz0gaMdKsiVZIgMAAAB7eyJvcmlnaW4iOiJodHRwczovL2RvdWJsZWNsaWNrLm5ldDo0NDMiLCJmZWF0dXJlIjoiVHJ1c3RUb2tlbnMiLCJleHBpcnkiOjE2MjYyMjA3OTksImlzU3ViZG9tYWluIjp0cnVlLCJpc1RoaXJkUGFydHkiOnRydWV9\" http-equiv=\"origin-trial\"/><meta content=\"AxL6oBxcpn5rQDPKSAs+d0oxNyJYq2/4esBUh3Yx5z8QfcLu+AU8iFCXYRcr/CEEfDnkxxLTsvXPJFQBxHfvkgMAAACBeyJvcmlnaW4iOiJodHRwczovL2dvb2dsZXRhZ3NlcnZpY2VzLmNvbTo0NDMiLCJmZWF0dXJlIjoiVHJ1c3RUb2tlbnMiLCJleHBpcnkiOjE2MjYyMjA3OTksImlzU3ViZG9tYWluIjp0cnVlLCJpc1RoaXJkUGFydHkiOnRydWV9\" http-equiv=\"origin-trial\"/><meta content=\"A9KPtG5kl3oLTk21xqynDPGQ5t18bSOpwt0w6kGa6dEWbuwjpffmdUpR3W+faZDubGT+KIk2do0BX2ca16x8qAcAAACBeyJvcmlnaW4iOiJodHRwczovL2dvb2dsZXN5bmRpY2F0aW9uLmNvbTo0NDMiLCJmZWF0dXJlIjoiVHJ1c3RUb2tlbnMiLCJleHBpcnkiOjE2MjYyMjA3OTksImlzU3ViZG9tYWluIjp0cnVlLCJpc1RoaXJkUGFydHkiOnRydWV9\" http-equiv=\"origin-trial\"/><meta content=\"A3HucHUo1oW9s+9kIKz8mLkbcmdaj5lxt3eiIMp1Nh49dkkBlg1Fhg4Fd/r0vL69mRRA36YutI9P/lJUfL8csQoAAACFeyJvcmlnaW4iOiJodHRwczovL2RvdWJsZWNsaWNrLm5ldDo0NDMiLCJmZWF0dXJlIjoiQ29udmVyc2lvbk1lYXN1cmVtZW50IiwiZXhwaXJ5IjoxNjI2MjIwNzk5LCJpc1N1YmRvbWFpbiI6dHJ1ZSwiaXNUaGlyZFBhcnR5Ijp0cnVlfQ==\" http-equiv=\"origin-trial\"/><meta content=\"A+b/H0b8RPXNaJgaNFpO0YOFuGK6myDQXlwnJB3SwzvNMfcndat4DZYMrP4ClJIzYWo3/yP2S+8FTZ/lpqbPAAEAAABueyJvcmlnaW4iOiJodHRwczovL2ltYXNkay5nb29nbGVhcGlzLmNvbTo0NDMiLCJmZWF0dXJlIjoiVHJ1c3RUb2tlbnMiLCJleHBpcnkiOjE2MjYyMjA3OTksImlzVGhpcmRQYXJ0eSI6dHJ1ZX0=\" http-equiv=\"origin-trial\"/><meta content=\"A9ZgbRtm4pU3oZiuNzOsKcC8ppFSZdcjP2qYcdQrFKVzkmiWH1kdYY1Mi9x7G8+PS8HV9Ha9Cz0gaMdKsiVZIgMAAAB7eyJvcmlnaW4iOiJodHRwczovL2RvdWJsZWNsaWNrLm5ldDo0NDMiLCJmZWF0dXJlIjoiVHJ1c3RUb2tlbnMiLCJleHBpcnkiOjE2MjYyMjA3OTksImlzU3ViZG9tYWluIjp0cnVlLCJpc1RoaXJkUGFydHkiOnRydWV9\" http-equiv=\"origin-trial\"/><meta content=\"AxL6oBxcpn5rQDPKSAs+d0oxNyJYq2/4esBUh3Yx5z8QfcLu+AU8iFCXYRcr/CEEfDnkxxLTsvXPJFQBxHfvkgMAAACBeyJvcmlnaW4iOiJodHRwczovL2dvb2dsZXRhZ3NlcnZpY2VzLmNvbTo0NDMiLCJmZWF0dXJlIjoiVHJ1c3RUb2tlbnMiLCJleHBpcnkiOjE2MjYyMjA3OTksImlzU3ViZG9tYWluIjp0cnVlLCJpc1RoaXJkUGFydHkiOnRydWV9\" http-equiv=\"origin-trial\"/><meta content=\"A9KPtG5kl3oLTk21xqynDPGQ5t18bSOpwt0w6kGa6dEWbuwjpffmdUpR3W+faZDubGT+KIk2do0BX2ca16x8qAcAAACBeyJvcmlnaW4iOiJodHRwczovL2dvb2dsZXN5bmRpY2F0aW9uLmNvbTo0NDMiLCJmZWF0dXJlIjoiVHJ1c3RUb2tlbnMiLCJleHBpcnkiOjE2MjYyMjA3OTksImlzU3ViZG9tYWluIjp0cnVlLCJpc1RoaXJkUGFydHkiOnRydWV9\" http-equiv=\"origin-trial\"/><meta content=\"A3HucHUo1oW9s+9kIKz8mLkbcmdaj5lxt3eiIMp1Nh49dkkBlg1Fhg4Fd/r0vL69mRRA36YutI9P/lJUfL8csQoAAACFeyJvcmlnaW4iOiJodHRwczovL2RvdWJsZWNsaWNrLm5ldDo0NDMiLCJmZWF0dXJlIjoiQ29udmVyc2lvbk1lYXN1cmVtZW50IiwiZXhwaXJ5IjoxNjI2MjIwNzk5LCJpc1N1YmRvbWFpbiI6dHJ1ZSwiaXNUaGlyZFBhcnR5Ijp0cnVlfQ==\" http-equiv=\"origin-trial\"/><meta content=\"A+b/H0b8RPXNaJgaNFpO0YOFuGK6myDQXlwnJB3SwzvNMfcndat4DZYMrP4ClJIzYWo3/yP2S+8FTZ/lpqbPAAEAAABueyJvcmlnaW4iOiJodHRwczovL2ltYXNkay5nb29nbGVhcGlzLmNvbTo0NDMiLCJmZWF0dXJlIjoiVHJ1c3RUb2tlbnMiLCJleHBpcnkiOjE2MjYyMjA3OTksImlzVGhpcmRQYXJ0eSI6dHJ1ZX0=\" http-equiv=\"origin-trial\"/><meta content=\"A9ZgbRtm4pU3oZiuNzOsKcC8ppFSZdcjP2qYcdQrFKVzkmiWH1kdYY1Mi9x7G8+PS8HV9Ha9Cz0gaMdKsiVZIgMAAAB7eyJvcmlnaW4iOiJodHRwczovL2RvdWJsZWNsaWNrLm5ldDo0NDMiLCJmZWF0dXJlIjoiVHJ1c3RUb2tlbnMiLCJleHBpcnkiOjE2MjYyMjA3OTksImlzU3ViZG9tYWluIjp0cnVlLCJpc1RoaXJkUGFydHkiOnRydWV9\" http-equiv=\"origin-trial\"/><meta content=\"AxL6oBxcpn5rQDPKSAs+d0oxNyJYq2/4esBUh3Yx5z8QfcLu+AU8iFCXYRcr/CEEfDnkxxLTsvXPJFQBxHfvkgMAAACBeyJvcmlnaW4iOiJodHRwczovL2dvb2dsZXRhZ3NlcnZpY2VzLmNvbTo0NDMiLCJmZWF0dXJlIjoiVHJ1c3RUb2tlbnMiLCJleHBpcnkiOjE2MjYyMjA3OTksImlzU3ViZG9tYWluIjp0cnVlLCJpc1RoaXJkUGFydHkiOnRydWV9\" http-equiv=\"origin-trial\"/><meta content=\"A9KPtG5kl3oLTk21xqynDPGQ5t18bSOpwt0w6kGa6dEWbuwjpffmdUpR3W+faZDubGT+KIk2do0BX2ca16x8qAcAAACBeyJvcmlnaW4iOiJodHRwczovL2dvb2dsZXN5bmRpY2F0aW9uLmNvbTo0NDMiLCJmZWF0dXJlIjoiVHJ1c3RUb2tlbnMiLCJleHBpcnkiOjE2MjYyMjA3OTksImlzU3ViZG9tYWluIjp0cnVlLCJpc1RoaXJkUGFydHkiOnRydWV9\" http-equiv=\"origin-trial\"/><meta content=\"A3HucHUo1oW9s+9kIKz8mLkbcmdaj5lxt3eiIMp1Nh49dkkBlg1Fhg4Fd/r0vL69mRRA36YutI9P/lJUfL8csQoAAACFeyJvcmlnaW4iOiJodHRwczovL2RvdWJsZWNsaWNrLm5ldDo0NDMiLCJmZWF0dXJlIjoiQ29udmVyc2lvbk1lYXN1cmVtZW50IiwiZXhwaXJ5IjoxNjI2MjIwNzk5LCJpc1N1YmRvbWFpbiI6dHJ1ZSwiaXNUaGlyZFBhcnR5Ijp0cnVlfQ==\" http-equiv=\"origin-trial\"/><meta content=\"A+b/H0b8RPXNaJgaNFpO0YOFuGK6myDQXlwnJB3SwzvNMfcndat4DZYMrP4ClJIzYWo3/yP2S+8FTZ/lpqbPAAEAAABueyJvcmlnaW4iOiJodHRwczovL2ltYXNkay5nb29nbGVhcGlzLmNvbTo0NDMiLCJmZWF0dXJlIjoiVHJ1c3RUb2tlbnMiLCJleHBpcnkiOjE2MjYyMjA3OTksImlzVGhpcmRQYXJ0eSI6dHJ1ZX0=\" http-equiv=\"origin-trial\"/><meta content=\"A9ZgbRtm4pU3oZiuNzOsKcC8ppFSZdcjP2qYcdQrFKVzkmiWH1kdYY1Mi9x7G8+PS8HV9Ha9Cz0gaMdKsiVZIgMAAAB7eyJvcmlnaW4iOiJodHRwczovL2RvdWJsZWNsaWNrLm5ldDo0NDMiLCJmZWF0dXJlIjoiVHJ1c3RUb2tlbnMiLCJleHBpcnkiOjE2MjYyMjA3OTksImlzU3ViZG9tYWluIjp0cnVlLCJpc1RoaXJkUGFydHkiOnRydWV9\" http-equiv=\"origin-trial\"/><meta content=\"AxL6oBxcpn5rQDPKSAs+d0oxNyJYq2/4esBUh3Yx5z8QfcLu+AU8iFCXYRcr/CEEfDnkxxLTsvXPJFQBxHfvkgMAAACBeyJvcmlnaW4iOiJodHRwczovL2dvb2dsZXRhZ3NlcnZpY2VzLmNvbTo0NDMiLCJmZWF0dXJlIjoiVHJ1c3RUb2tlbnMiLCJleHBpcnkiOjE2MjYyMjA3OTksImlzU3ViZG9tYWluIjp0cnVlLCJpc1RoaXJkUGFydHkiOnRydWV9\" http-equiv=\"origin-trial\"/><meta content=\"A9KPtG5kl3oLTk21xqynDPGQ5t18bSOpwt0w6kGa6dEWbuwjpffmdUpR3W+faZDubGT+KIk2do0BX2ca16x8qAcAAACBeyJvcmlnaW4iOiJodHRwczovL2dvb2dsZXN5bmRpY2F0aW9uLmNvbTo0NDMiLCJmZWF0dXJlIjoiVHJ1c3RUb2tlbnMiLCJleHBpcnkiOjE2MjYyMjA3OTksImlzU3ViZG9tYWluIjp0cnVlLCJpc1RoaXJkUGFydHkiOnRydWV9\" http-equiv=\"origin-trial\"/><meta content=\"A3HucHUo1oW9s+9kIKz8mLkbcmdaj5lxt3eiIMp1Nh49dkkBlg1Fhg4Fd/r0vL69mRRA36YutI9P/lJUfL8csQoAAACFeyJvcmlnaW4iOiJodHRwczovL2RvdWJsZWNsaWNrLm5ldDo0NDMiLCJmZWF0dXJlIjoiQ29udmVyc2lvbk1lYXN1cmVtZW50IiwiZXhwaXJ5IjoxNjI2MjIwNzk5LCJpc1N1YmRvbWFpbiI6dHJ1ZSwiaXNUaGlyZFBhcnR5Ijp0cnVlfQ==\" http-equiv=\"origin-trial\"/><link as=\"script\" href=\"https://adservice.google.com/adsid/integrator.js?domain=space-facts.com\" rel=\"preload\"/><script src=\"https://adservice.google.com/adsid/integrator.js?domain=space-facts.com\" type=\"text/javascript\"></script></head><body class=\"page-template-default page page-id-7 wp-custom-logo wp-embed-responsive mega-menu-primary post-layout-three-columns post-layout-columns\" data-rsssl=\"1\"><div class=\"hfeed site\" id=\"page\" style=\"height: auto !important;\"> <a class=\"skip-link screen-reader-text\" href=\"#content\">Skip to content</a><header class=\"site-header clearfix\" id=\"masthead\" role=\"banner\"><div class=\"header-main container clearfix\"><div class=\"site-branding clearfix\" id=\"logo\"> <a class=\"custom-logo-link\" href=\"https://space-facts.com/\" rel=\"home\"><img alt=\"Space Facts\" class=\"custom-logo\" height=\"80\" src=\"https://space-facts.com/wp-content/uploads/space-facts-logo.png\" width=\"184\"/></a><p class=\"site-title\"><a href=\"https://space-facts.com/\" rel=\"home\">Space Facts</a></p></div><nav class=\"primary-navigation navigation clearfix\" id=\"main-navigation\" role=\"navigation\"><div class=\"mega-menu-wrap\" id=\"mega-menu-wrap-primary\"><div class=\"mega-menu-toggle\"><div class=\"mega-toggle-blocks-left\"><div class=\"mega-toggle-block mega-logo-block mega-toggle-block-1\" id=\"mega-toggle-block-1\"><a class=\"mega-menu-logo\" href=\"https://space-facts.com\" target=\"_self\"><img alt=\"Space Facts\" class=\"mega-menu-logo\" src=\"https://space-facts.com/wp-content/uploads/space-facts-logo.png\"/></a></div></div><div class=\"mega-toggle-blocks-center\"></div><div class=\"mega-toggle-blocks-right\"><div class=\"mega-toggle-block mega-search-block mega-toggle-block-2\" id=\"mega-toggle-block-2\"><div class=\"mega-search-wrap\"><form action=\"https://space-facts.com/\" class=\"mega-search expand-to-left mega-search-closed\"> <span class=\"dashicons dashicons-search search-icon\"></span> <input type=\"submit\" value=\"Search\"/> <input aria-label=\"Search...\" data-placeholder=\"Search...\" name=\"s\" type=\"text\"/></form></div></div><div class=\"mega-toggle-block mega-menu-toggle-animated-block mega-toggle-block-3\" id=\"mega-toggle-block-3\"><button aria-expanded=\"false\" aria-label=\"Toggle Menu\" class=\"mega-toggle-animated mega-toggle-animated-slider\" type=\"button\"> <span class=\"mega-toggle-animated-box\"> <span class=\"mega-toggle-animated-inner\"></span> </span> </button></div></div></div><ul class=\"mega-menu max-mega-menu mega-menu-horizontal\" data-breakpoint=\"734\" data-document-click=\"collapse\" data-effect=\"slide\" data-effect-mobile=\"disabled\" data-effect-speed=\"200\" data-effect-speed-mobile=\"0\" data-event=\"hover_intent\" data-hover-intent-interval=\"100\" data-hover-intent-timeout=\"300\" data-mobile-force-width=\"false\" data-mobile-state=\"collapse_all\" data-second-click=\"go\" data-unbind=\"true\" data-vertical-behaviour=\"standard\" id=\"mega-menu-primary\"><li class=\"mega-menu-item mega-menu-item-type-post_type mega-menu-item-object-page mega-current-menu-ancestor mega-current_page_ancestor mega-menu-item-has-children mega-menu-megamenu mega-align-bottom-left mega-menu-megamenu mega-menu-item-69\" id=\"mega-menu-item-69\"><a aria-expanded=\"false\" aria-haspopup=\"true\" class=\"mega-menu-link\" href=\"https://space-facts.com/planets/\" tabindex=\"0\">Planets<span class=\"mega-indicator\" data-has-click-event=\"true\"></span></a><ul class=\"mega-sub-menu\"><li class=\"mega-menu-item mega-menu-item-type-post_type mega-menu-item-object-page mega-current-menu-ancestor mega-current-menu-parent mega-current_page_parent mega-current_page_ancestor mega-menu-item-has-children mega-menu-columns-1-of-3 mega-menu-item-436\" id=\"mega-menu-item-436\"><a class=\"mega-menu-link\" href=\"https://space-facts.com/terrestrial-planets/\">Terrestrial Planets<span class=\"mega-indicator\" data-has-click-event=\"true\"></span></a><ul class=\"mega-sub-menu\"><li class=\"mega-menu-item mega-menu-item-type-post_type mega-menu-item-object-page mega-menu-item-139\" id=\"mega-menu-item-139\"><a class=\"mega-menu-link\" href=\"https://space-facts.com/mercury/\">Mercury</a></li><li class=\"mega-menu-item mega-menu-item-type-post_type mega-menu-item-object-page mega-menu-item-140\" id=\"mega-menu-item-140\"><a class=\"mega-menu-link\" href=\"https://space-facts.com/venus/\">Venus</a></li><li class=\"mega-menu-item mega-menu-item-type-post_type mega-menu-item-object-page mega-menu-item-138\" id=\"mega-menu-item-138\"><a class=\"mega-menu-link\" href=\"https://space-facts.com/earth/\">Earth</a></li><li class=\"mega-menu-item mega-menu-item-type-post_type mega-menu-item-object-page mega-current-menu-item mega-page_item mega-page-item-7 mega-current_page_item mega-menu-item-68\" id=\"mega-menu-item-68\"><a class=\"mega-menu-link\" href=\"https://space-facts.com/mars/\">Mars</a></li></ul></li><li class=\"mega-menu-item mega-menu-item-type-post_type mega-menu-item-object-page mega-menu-item-has-children mega-menu-columns-1-of-3 mega-menu-item-435\" id=\"mega-menu-item-435\"><a class=\"mega-menu-link\" href=\"https://space-facts.com/gas-giants/\">Gas Giants<span class=\"mega-indicator\" data-has-click-event=\"true\"></span></a><ul class=\"mega-sub-menu\"><li class=\"mega-menu-item mega-menu-item-type-post_type mega-menu-item-object-page mega-menu-item-78\" id=\"mega-menu-item-78\"><a class=\"mega-menu-link\" href=\"https://space-facts.com/jupiter/\">Jupiter</a></li><li class=\"mega-menu-item mega-menu-item-type-post_type mega-menu-item-object-page mega-menu-item-143\" id=\"mega-menu-item-143\"><a class=\"mega-menu-link\" href=\"https://space-facts.com/saturn/\">Saturn</a></li><li class=\"mega-menu-item mega-menu-item-type-post_type mega-menu-item-object-page mega-menu-item-142\" id=\"mega-menu-item-142\"><a class=\"mega-menu-link\" href=\"https://space-facts.com/uranus/\">Uranus</a></li><li class=\"mega-menu-item mega-menu-item-type-post_type mega-menu-item-object-page mega-menu-item-141\" id=\"mega-menu-item-141\"><a class=\"mega-menu-link\" href=\"https://space-facts.com/neptune/\">Neptune</a></li></ul></li><li class=\"mega-menu-item mega-menu-item-type-post_type mega-menu-item-object-page mega-menu-item-has-children mega-menu-columns-1-of-3 mega-menu-item-85\" id=\"mega-menu-item-85\"><a class=\"mega-menu-link\" href=\"https://space-facts.com/dwarf-planets/\">Dwarf Planets<span class=\"mega-indicator\" data-has-click-event=\"true\"></span></a><ul class=\"mega-sub-menu\"><li class=\"mega-menu-item mega-menu-item-type-post_type mega-menu-item-object-page mega-menu-item-133\" id=\"mega-menu-item-133\"><a class=\"mega-menu-link\" href=\"https://space-facts.com/ceres/\">Ceres</a></li><li class=\"mega-menu-item mega-menu-item-type-post_type mega-menu-item-object-page mega-menu-item-137\" id=\"mega-menu-item-137\"><a class=\"mega-menu-link\" href=\"https://space-facts.com/pluto/\">Pluto</a></li><li class=\"mega-menu-item mega-menu-item-type-post_type mega-menu-item-object-page mega-menu-item-135\" id=\"mega-menu-item-135\"><a class=\"mega-menu-link\" href=\"https://space-facts.com/haumea/\">Haumea</a></li><li class=\"mega-menu-item mega-menu-item-type-post_type mega-menu-item-object-page mega-menu-item-136\" id=\"mega-menu-item-136\"><a class=\"mega-menu-link\" href=\"https://space-facts.com/makemake/\">Makemake</a></li><li class=\"mega-menu-item mega-menu-item-type-post_type mega-menu-item-object-page mega-menu-item-134\" id=\"mega-menu-item-134\"><a class=\"mega-menu-link\" href=\"https://space-facts.com/eris/\">Eris</a></li></ul></li></ul></li><li class=\"mega-menu-item mega-menu-item-type-post_type mega-menu-item-object-page mega-menu-item-has-children mega-align-bottom-left mega-menu-flyout mega-menu-item-90\" id=\"mega-menu-item-90\"><a aria-expanded=\"false\" aria-haspopup=\"true\" class=\"mega-menu-link\" href=\"https://space-facts.com/solar-system/\" tabindex=\"0\">Solar System<span class=\"mega-indicator\" data-has-click-event=\"true\"></span></a><ul class=\"mega-sub-menu\"><li class=\"mega-menu-item mega-menu-item-type-post_type mega-menu-item-object-page mega-menu-item-473\" id=\"mega-menu-item-473\"><a class=\"mega-menu-link\" href=\"https://space-facts.com/the-sun/\">The Sun</a></li><li class=\"mega-menu-item mega-menu-item-type-post_type mega-menu-item-object-page mega-menu-item-481\" id=\"mega-menu-item-481\"><a class=\"mega-menu-link\" href=\"https://space-facts.com/solar-eclipse/\">Solar Eclipses</a></li><li class=\"mega-menu-item mega-menu-item-type-post_type mega-menu-item-object-page mega-menu-item-469\" id=\"mega-menu-item-469\"><a class=\"mega-menu-link\" href=\"https://space-facts.com/asteroid-belt/\">Asteroid Belt</a></li><li class=\"mega-menu-item mega-menu-item-type-post_type mega-menu-item-object-page mega-menu-item-484\" id=\"mega-menu-item-484\"><a class=\"mega-menu-link\" href=\"https://space-facts.com/kuiper-belt/\">Kuiper Belt</a></li><li class=\"mega-menu-item mega-menu-item-type-post_type mega-menu-item-object-page mega-menu-item-470\" id=\"mega-menu-item-470\"><a class=\"mega-menu-link\" href=\"https://space-facts.com/oort-cloud/\">Oort Cloud</a></li><li class=\"mega-menu-item mega-menu-item-type-post_type mega-menu-item-object-page mega-menu-item-472\" id=\"mega-menu-item-472\"><a class=\"mega-menu-link\" href=\"https://space-facts.com/asteroids/\">Asteroids</a></li><li class=\"mega-menu-item mega-menu-item-type-post_type mega-menu-item-object-page mega-menu-item-483\" id=\"mega-menu-item-483\"><a class=\"mega-menu-link\" href=\"https://space-facts.com/comets/\">Comets</a></li><li class=\"mega-menu-item mega-menu-item-type-post_type mega-menu-item-object-page mega-menu-item-471\" id=\"mega-menu-item-471\"><a class=\"mega-menu-link\" href=\"https://space-facts.com/meteorites/\">Meteorites</a></li><li class=\"mega-menu-item mega-menu-item-type-post_type mega-menu-item-object-page mega-menu-item-482\" id=\"mega-menu-item-482\"><a class=\"mega-menu-link\" href=\"https://space-facts.com/meteor-showers/\">Meteor Showers</a></li></ul></li><li class=\"mega-menu-item mega-menu-item-type-post_type mega-menu-item-object-page mega-menu-item-has-children mega-align-bottom-left mega-menu-flyout mega-menu-item-86\" id=\"mega-menu-item-86\"><a aria-expanded=\"false\" aria-haspopup=\"true\" class=\"mega-menu-link\" href=\"https://space-facts.com/galaxies/\" tabindex=\"0\">Galaxies<span class=\"mega-indicator\" data-has-click-event=\"true\"></span></a><ul class=\"mega-sub-menu\"><li class=\"mega-menu-item mega-menu-item-type-post_type mega-menu-item-object-page mega-menu-item-368\" id=\"mega-menu-item-368\"><a class=\"mega-menu-link\" href=\"https://space-facts.com/galaxies/milky-way/\">Milky Way</a></li><li class=\"mega-menu-item mega-menu-item-type-post_type mega-menu-item-object-page mega-menu-item-365\" id=\"mega-menu-item-365\"><a class=\"mega-menu-link\" href=\"https://space-facts.com/galaxies/andromeda/\">Andromeda</a></li><li class=\"mega-menu-item mega-menu-item-type-post_type mega-menu-item-object-page mega-menu-item-162\" id=\"mega-menu-item-162\"><a class=\"mega-menu-link\" href=\"https://space-facts.com/galaxies/messier-87/\">Messier 87</a></li><li class=\"mega-menu-item mega-menu-item-type-post_type mega-menu-item-object-page mega-menu-item-366\" id=\"mega-menu-item-366\"><a class=\"mega-menu-link\" href=\"https://space-facts.com/galaxies/antennae/\">Antennae</a></li><li class=\"mega-menu-item mega-menu-item-type-post_type mega-menu-item-object-page mega-menu-item-367\" id=\"mega-menu-item-367\"><a class=\"mega-menu-link\" href=\"https://space-facts.com/galaxies/magellanic-clouds/\">Magellanic Clouds</a></li><li class=\"mega-menu-item mega-menu-item-type-post_type mega-menu-item-object-page mega-menu-item-369\" id=\"mega-menu-item-369\"><a class=\"mega-menu-link\" href=\"https://space-facts.com/galaxies/pinwheel/\">Pinwheel</a></li><li class=\"mega-menu-item mega-menu-item-type-post_type mega-menu-item-object-page mega-menu-item-370\" id=\"mega-menu-item-370\"><a class=\"mega-menu-link\" href=\"https://space-facts.com/galaxies/sombrero/\">Sombrero</a></li><li class=\"mega-menu-item mega-menu-item-type-post_type mega-menu-item-object-page mega-menu-item-371\" id=\"mega-menu-item-371\"><a class=\"mega-menu-link\" href=\"https://space-facts.com/galaxies/triangulum/\">Triangulum</a></li><li class=\"mega-menu-item mega-menu-item-type-post_type mega-menu-item-object-page mega-menu-item-372\" id=\"mega-menu-item-372\"><a class=\"mega-menu-link\" href=\"https://space-facts.com/galaxies/whirlpool/\">Whirlpool</a></li><li class=\"mega-menu-item mega-menu-item-type-post_type mega-menu-item-object-page mega-menu-item-457\" id=\"mega-menu-item-457\"><a class=\"mega-menu-link\" href=\"https://space-facts.com/galaxies/types/\">Galaxy Types</a></li></ul></li><li class=\"mega-menu-item mega-menu-item-type-post_type mega-menu-item-object-page mega-menu-item-has-children mega-menu-megamenu mega-align-bottom-left mega-menu-megamenu mega-menu-item-87\" id=\"mega-menu-item-87\"><a aria-expanded=\"false\" aria-haspopup=\"true\" class=\"mega-menu-link\" href=\"https://space-facts.com/moons/\" tabindex=\"0\">Moons<span class=\"mega-indicator\" data-has-click-event=\"true\"></span></a><ul class=\"mega-sub-menu\"><li class=\"mega-menu-item mega-menu-item-type-post_type mega-menu-item-object-page mega-menu-columns-1-of-4 mega-menu-item-403\" id=\"mega-menu-item-403\"><a class=\"mega-menu-link\" href=\"https://space-facts.com/the-moon/\">The Moon</a></li><li class=\"mega-menu-item mega-menu-item-type-custom mega-menu-item-object-custom mega-menu-item-has-children mega-menu-columns-1-of-4 mega-menu-item-418\" id=\"mega-menu-item-418\"><a class=\"mega-menu-link\" href=\"/moons/#mars\">Mars' Moons<span class=\"mega-indicator\" data-has-click-event=\"true\"></span></a><ul class=\"mega-sub-menu\"><li class=\"mega-menu-item mega-menu-item-type-post_type mega-menu-item-object-page mega-menu-item-413\" id=\"mega-menu-item-413\"><a class=\"mega-menu-link\" href=\"https://space-facts.com/moons/phobos/\">Phobos</a></li><li class=\"mega-menu-item mega-menu-item-type-post_type mega-menu-item-object-page mega-menu-item-412\" id=\"mega-menu-item-412\"><a class=\"mega-menu-link\" href=\"https://space-facts.com/moons/deimos/\">Deimos</a></li></ul></li><li class=\"mega-menu-item mega-menu-item-type-custom mega-menu-item-object-custom mega-menu-item-has-children mega-menu-columns-1-of-4 mega-menu-item-419\" id=\"mega-menu-item-419\"><a class=\"mega-menu-link\" href=\"/moons/#jupiter\">Jupiter's Moons<span class=\"mega-indicator\" data-has-click-event=\"true\"></span></a><ul class=\"mega-sub-menu\"><li class=\"mega-menu-item mega-menu-item-type-post_type mega-menu-item-object-page mega-menu-item-415\" id=\"mega-menu-item-415\"><a class=\"mega-menu-link\" href=\"https://space-facts.com/moons/io/\">Io</a></li><li class=\"mega-menu-item mega-menu-item-type-post_type mega-menu-item-object-page mega-menu-item-163\" id=\"mega-menu-item-163\"><a class=\"mega-menu-link\" href=\"https://space-facts.com/moons/europa/\">Europa</a></li><li class=\"mega-menu-item mega-menu-item-type-post_type mega-menu-item-object-page mega-menu-item-414\" id=\"mega-menu-item-414\"><a class=\"mega-menu-link\" href=\"https://space-facts.com/moons/ganymede/\">Ganymede</a></li><li class=\"mega-menu-item mega-menu-item-type-post_type mega-menu-item-object-page mega-menu-item-416\" id=\"mega-menu-item-416\"><a class=\"mega-menu-link\" href=\"https://space-facts.com/moons/callisto/\">Callisto</a></li></ul></li><li class=\"mega-menu-item mega-menu-item-type-custom mega-menu-item-object-custom mega-menu-item-has-children mega-menu-columns-1-of-4 mega-menu-item-420\" id=\"mega-menu-item-420\"><a class=\"mega-menu-link\" href=\"/moons/#saturn\">Saturn's Moons<span class=\"mega-indicator\" data-has-click-event=\"true\"></span></a><ul class=\"mega-sub-menu\"><li class=\"mega-menu-item mega-menu-item-type-post_type mega-menu-item-object-page mega-menu-item-411\" id=\"mega-menu-item-411\"><a class=\"mega-menu-link\" href=\"https://space-facts.com/moons/enceladus/\">Enceladus</a></li><li class=\"mega-menu-item mega-menu-item-type-post_type mega-menu-item-object-page mega-menu-item-410\" id=\"mega-menu-item-410\"><a class=\"mega-menu-link\" href=\"https://space-facts.com/moons/rhea/\">Rhea</a></li><li class=\"mega-menu-item mega-menu-item-type-post_type mega-menu-item-object-page mega-menu-item-409\" id=\"mega-menu-item-409\"><a class=\"mega-menu-link\" href=\"https://space-facts.com/moons/titan/\">Titan</a></li><li class=\"mega-menu-item mega-menu-item-type-post_type mega-menu-item-object-page mega-menu-item-408\" id=\"mega-menu-item-408\"><a class=\"mega-menu-link\" href=\"https://space-facts.com/moons/iapetus/\">Iapetus</a></li></ul></li><li class=\"mega-menu-item mega-menu-item-type-custom mega-menu-item-object-custom mega-menu-item-has-children mega-menu-columns-1-of-4 mega-menu-clear mega-menu-item-421\" id=\"mega-menu-item-421\"><a class=\"mega-menu-link\" href=\"/moons/#uranus\">Uranus' Moons<span class=\"mega-indicator\" data-has-click-event=\"true\"></span></a><ul class=\"mega-sub-menu\"><li class=\"mega-menu-item mega-menu-item-type-post_type mega-menu-item-object-page mega-menu-item-407\" id=\"mega-menu-item-407\"><a class=\"mega-menu-link\" href=\"https://space-facts.com/moons/miranda/\">Miranda</a></li><li class=\"mega-menu-item mega-menu-item-type-post_type mega-menu-item-object-page mega-menu-item-406\" id=\"mega-menu-item-406\"><a class=\"mega-menu-link\" href=\"https://space-facts.com/moons/titania/\">Titania</a></li></ul></li><li class=\"mega-menu-item mega-menu-item-type-custom mega-menu-item-object-custom mega-menu-item-has-children mega-menu-columns-1-of-4 mega-menu-item-422\" id=\"mega-menu-item-422\"><a class=\"mega-menu-link\" href=\"/moons/#neptune\">Neptune's Moons<span class=\"mega-indicator\" data-has-click-event=\"true\"></span></a><ul class=\"mega-sub-menu\"><li class=\"mega-menu-item mega-menu-item-type-post_type mega-menu-item-object-page mega-menu-item-405\" id=\"mega-menu-item-405\"><a class=\"mega-menu-link\" href=\"https://space-facts.com/moons/triton/\">Triton</a></li></ul></li><li class=\"mega-menu-item mega-menu-item-type-custom mega-menu-item-object-custom mega-menu-item-has-children mega-menu-columns-1-of-4 mega-menu-item-423\" id=\"mega-menu-item-423\"><a class=\"mega-menu-link\" href=\"/moons/#pluto\">Pluto's Moons<span class=\"mega-indicator\" data-has-click-event=\"true\"></span></a><ul class=\"mega-sub-menu\"><li class=\"mega-menu-item mega-menu-item-type-post_type mega-menu-item-object-page mega-menu-item-404\" id=\"mega-menu-item-404\"><a class=\"mega-menu-link\" href=\"https://space-facts.com/moons/charon/\">Charon</a></li></ul></li></ul></li><li class=\"mega-menu-item mega-menu-item-type-post_type mega-menu-item-object-page mega-menu-item-has-children mega-align-bottom-left mega-menu-flyout mega-menu-item-93\" id=\"mega-menu-item-93\"><a aria-expanded=\"false\" aria-haspopup=\"true\" class=\"mega-menu-link\" href=\"https://space-facts.com/universe/\" tabindex=\"0\">Universe<span class=\"mega-indicator\" data-has-click-event=\"true\"></span></a><ul class=\"mega-sub-menu\"><li class=\"mega-menu-item mega-menu-item-type-post_type mega-menu-item-object-page mega-menu-item-456\" id=\"mega-menu-item-456\"><a class=\"mega-menu-link\" href=\"https://space-facts.com/black-holes/\">Black Holes</a></li><li class=\"mega-menu-item mega-menu-item-type-post_type mega-menu-item-object-page mega-menu-item-454\" id=\"mega-menu-item-454\"><a class=\"mega-menu-link\" href=\"https://space-facts.com/stars/\">Stars</a></li><li class=\"mega-menu-item mega-menu-item-type-post_type mega-menu-item-object-page mega-menu-item-455\" id=\"mega-menu-item-455\"><a class=\"mega-menu-link\" href=\"https://space-facts.com/nebulae/\">Nebulae</a></li><li class=\"mega-menu-item mega-menu-item-type-post_type mega-menu-item-object-page mega-menu-item-434\" id=\"mega-menu-item-434\"><a class=\"mega-menu-link\" href=\"https://space-facts.com/exoplanets/\">Exoplanets</a></li></ul></li><li class=\"mega-menu-item mega-menu-item-type-custom mega-menu-item-object-custom mega-align-bottom-left mega-menu-flyout mega-hide-on-mobile mega-menu-item-6556\" id=\"mega-menu-item-6556\"><div class=\"mega-search-wrap\"><form action=\"https://space-facts.com/\" class=\"mega-search expand-to-left mega-search-closed\" role=\"search\"> <span class=\"dashicons dashicons-search search-icon\"></span> <input type=\"submit\" value=\"Search\"/> <input aria-label=\"Search...\" data-placeholder=\"Search...\" name=\"s\" placeholder=\"\" type=\"text\"/></form></div></li></ul></div></nav></div></header><div class=\"site-content container clearfix\" id=\"content\" style=\"height: auto !important;\"><div class=\"widget_text widget widget_custom_html ad-header\" id=\"custom_html-6\"><div class=\"textwidget custom-html-widget\"><center><script async=\"\" src=\"https://pagead2.googlesyndication.com/pagead/js/adsbygoogle.js\"></script> <ins class=\"adsbygoogle\" data-ad-client=\"ca-pub-4251889121233823\" data-ad-slot=\"9356416003\" data-adsbygoogle-status=\"done\" style=\"display:inline-block;width:728px;height:90px\"><ins aria-label=\"Advertisement\" id=\"aswift_1_expand\" style=\"display:inline-table;border:none;height:90px;margin:0;padding:0;position:relative;visibility:visible;width:728px;background-color:transparent;\" tabindex=\"0\" title=\"Advertisement\"><ins id=\"aswift_1_anchor\" style=\"display:block;border:none;height:90px;margin:0;padding:0;position:relative;visibility:visible;width:728px;background-color:transparent;\"><iframe allowfullscreen=\"true\" allowtransparency=\"true\" data-google-container-id=\"a!2\" data-google-query-id=\"CJD-zpmlp-8CFQQFrQYdmcgLQg\" data-load-complete=\"true\" frameborder=\"0\" height=\"90\" hspace=\"0\" id=\"aswift_1\" marginheight=\"0\" marginwidth=\"0\" name=\"aswift_1\" sandbox=\"allow-forms allow-popups allow-popups-to-escape-sandbox allow-same-origin allow-scripts allow-top-navigation-by-user-activation\" scrolling=\"no\" src=\"https://googleads.g.doubleclick.net/pagead/ads?client=ca-pub-4251889121233823&amp;output=html&amp;h=90&amp;slotname=9356416003&amp;adk=1635513676&amp;adf=941970851&amp;pi=t.ma~as.9356416003&amp;w=728&amp;lmt=1615433085&amp;psa=0&amp;format=728x90&amp;url=https%3A%2F%2Fspace-facts.com%2Fmars%2F&amp;flash=0&amp;wgl=1&amp;dt=1615433085491&amp;bpp=27&amp;bdt=1457&amp;idt=342&amp;shv=r20210309&amp;cbv=r20190131&amp;ptt=9&amp;saldr=aa&amp;abxe=1&amp;prev_fmts=0x0&amp;nras=1&amp;correlator=751242702708&amp;frm=20&amp;pv=1&amp;ga_vid=777901994.1615433085&amp;ga_sid=1615433086&amp;ga_hid=1200919674&amp;ga_fc=0&amp;u_tz=-300&amp;u_his=2&amp;u_java=0&amp;u_h=1080&amp;u_w=1920&amp;u_ah=1040&amp;u_aw=1920&amp;u_cd=24&amp;u_nplug=3&amp;u_nmime=4&amp;adx=92&amp;ady=157&amp;biw=912&amp;bih=888&amp;scr_x=0&amp;scr_y=0&amp;eid=44736524%2C21066432%2C21066922&amp;oid=3&amp;pvsid=3568747617061969&amp;pem=941&amp;rx=0&amp;eae=0&amp;fc=1920&amp;brdim=10%2C10%2C10%2C10%2C1920%2C0%2C945%2C1020%2C929%2C888&amp;vis=1&amp;rsz=%7C%7CeE%7C&amp;abl=CS&amp;pfx=0&amp;fu=8192&amp;bc=31&amp;ifi=2&amp;uci=a!2&amp;fsb=1&amp;xpc=n4H9JcWFmC&amp;p=https%3A//space-facts.com&amp;dtd=354\" style=\"left:0;position:absolute;top:0;border:0;width:728px;height:90px;\" vspace=\"0\" width=\"728\"></iframe></ins></ins></ins> <script>(adsbygoogle = window.adsbygoogle || []).push({});</script></center></div></div><section class=\"content-single content-area\" id=\"primary\"><main class=\"site-main\" id=\"main\" role=\"main\"><article class=\"post-7 page type-page status-publish has-post-thumbnail hentry\" id=\"post-7\"><header class=\"entry-header\"><h1 class=\"page-title\">Mars Facts</h1></header><div class=\"entry-content clearfix\"><div class=\"black-background\"><figure><img alt=\"Mars\" class=\"aligncenter size-full wp-image-5696\" height=\"700\" loading=\"eager\" sizes=\"(max-width: 700px) 100vw, 700px\" src=\"https://space-facts.com/wp-content/uploads/mars.jpg\" srcset=\"https://space-facts.com/wp-content/uploads/mars.jpg 700w, https://space-facts.com/wp-content/uploads/mars-150x150.jpg 150w, https://space-facts.com/wp-content/uploads/mars-300x300.jpg 300w, https://space-facts.com/wp-content/uploads/mars-180x180.jpg 180w, https://space-facts.com/wp-content/uploads/mars-50x50.jpg 50w\" width=\"700\"/></figure></div><p>Mars is the fourth planet from the <a href=\"https://space-facts.com/the-sun/\">Sun</a> and is the second smallest planet in the solar system. Named after the Roman god of war, Mars is also often described as the “Red Planet” due to its reddish appearance. Mars is a <a href=\"https://space-facts.com/terrestrial-planets/\">terrestrial planet</a> with a thin atmosphere composed primarily of carbon dioxide.</p><div class=\"widget widget_text profiles\" id=\"text-75\"><div class=\"textwidget\"><table class=\"tablepress tablepress-id-p-mars\" id=\"tablepress-p-mars\"><tbody><tr class=\"row-1 odd\"><td class=\"column-1\"><strong>Equatorial Diameter:</strong></td><td class=\"column-2\">6,792 km<br/></td></tr><tr class=\"row-2 even\"><td class=\"column-1\"><strong>Polar Diameter:</strong></td><td class=\"column-2\">6,752 km<br/></td></tr><tr class=\"row-3 odd\"><td class=\"column-1\"><strong>Mass:</strong></td><td class=\"column-2\">6.39 × 10^23 kg<br/> (0.11 Earths)</td></tr><tr class=\"row-4 even\"><td class=\"column-1\"><strong>Moons:</strong></td><td class=\"column-2\">2 (<a href=\"https://space-facts.com/moons/phobos/\">Phobos</a> &amp; <a href=\"https://space-facts.com/moons/deimos/\">Deimos</a>)</td></tr><tr class=\"row-5 odd\"><td class=\"column-1\"><strong>Orbit Distance:</strong></td><td class=\"column-2\">227,943,824 km<br/> (1.38 AU)</td></tr><tr class=\"row-6 even\"><td class=\"column-1\"><strong>Orbit Period:</strong></td><td class=\"column-2\">687 days (1.9 years)<br/></td></tr><tr class=\"row-7 odd\"><td class=\"column-1\"><strong>Surface Temperature: </strong></td><td class=\"column-2\">-87 to -5 °C</td></tr><tr class=\"row-8 even\"><td class=\"column-1\"><strong>First Record:</strong></td><td class=\"column-2\">2nd millennium BC</td></tr><tr class=\"row-9 odd\"><td class=\"column-1\"><strong>Recorded By:</strong></td><td class=\"column-2\">Egyptian astronomers</td></tr></tbody></table></div></div><div id=\"facts\"><h2>Facts about Mars</h2><ul><li><strong>Mars and Earth have approximately the same landmass.</strong><br/>Even though Mars has only 15% of the <a href=\"https://space-facts.com/earth/\">Earth’s</a> volume and just over 10% of the Earth’s mass, around two thirds of the Earth’s surface is covered in water. Martian surface gravity is only 37% of the Earth’s (meaning you could leap nearly three times higher on Mars).</li><li><strong>Mars is home to the tallest mountain in the solar system.</strong><br/><a href=\"https://space-facts.com/mars-features/#olympus\">Olympus Mons</a>, a shield volcano, is 21km high and 600km in diameter. Despite having formed over billions of years, evidence from volcanic lava flows is so recent many scientists believe it could still be active.</li><li><strong>Only 18 missions to Mars have been successful.</strong><br/>As of September 2014 there have been 40 <a href=\"https://space-facts.com/mars-missions/\">missions to Mars</a>, including orbiters, landers and rovers but not counting flybys. The most recent arrivals include the Mars Curiosity mission in 2012, the MAVEN mission, which arrived on September 22, 2014, followed by the Indian Space Research Organization’s MOM Mangalyaan orbiter, which arrived on September 24, 2014. The next missions to arrive will be the European Space Agency’s ExoMars mission, comprising an orbiter, lander, and a rover, followed by NASA’s InSight robotic lander mission, slated for launch in March 2016 and a planned arrival in September, 2016.</li><li><strong>Mars has the largest dust storms in the solar system.</strong><br/>They can last for months and cover the entire planet. The seasons are extreme because its elliptical (oval-shaped) orbital path around the Sun is more elongated than most other planets in the <a href=\"https://space-facts.com/solar-system/\">solar system</a>.</li><li><strong>On Mars the Sun appears about half the size as it does on Earth.</strong><br/>At the closest point to the Sun, the Martian southern hemisphere leans towards the Sun, causing a short, intensely hot summer, while the northern hemisphere endures a brief, cold winter: at its farthest point from the Sun, the Martian northern hemisphere leans towards the Sun, causing a long, mild summer, while the southern hemisphere endures a lengthy, cold winter.</li><li><strong>Pieces of Mars have fallen to Earth.</strong><br/>Scientists have found tiny traces of Martian atmosphere within meteorites violently ejected from Mars, then orbiting the solar system amongst galactic debris for millions of years, before crash landing on Earth. This allowed scientists to begin studying Mars prior to launching space missions.</li><li><strong>Mars takes its name from the Roman god of war.</strong><br/>The ancient Greeks called the planet Ares, after their god of war; the Romans then did likewise, associating the planet’s blood-red colour with Mars, their own god of war. Interestingly, other ancient cultures also focused on colour – to China’s astronomers it was ‘the fire star’, whilst Egyptian priests called on ‘Her Desher’, or ‘the red one’. The red colour Mars is known for is due to the rock and dust covering its surface being rich in iron.</li><li><strong>There are signs of liquid water on Mars.</strong><br/>For years Mars has been known to have water in the form of ice. The first signs of trickling water are dark stripes or stains on crater wall and cliffs seen in satellite images. Due to Mars’ atmosphere this water would have to be salty to prevent it from freezing or vaporising.</li><li><strong>One day Mars will have a ring.</strong><br/>In the next 20-40 million years Mars’ largest moon Phobos will be torn apart by gravitational forces leading to the creation of a ring that could last up to 100 million years.</li><li><strong>Sunsets on Mars are blue.</strong><br/>During the martian day the sky is pinkish-red, this is the opposite of the Earth’s skies.</li></ul></div><h2>Mars Diagrams</h2><div class=\"diagram-background\" id=\"diagrams\"><div class=\"wp-block-image\"><figure class=\"aligncenter\"><img alt=\"Mars size compared to Earth\" class=\"wp-image-6263\" height=\"300\" loading=\"lazy\" sizes=\"(max-width: 760px) 100vw, 760px\" src=\"https://space-facts.com/wp-content/uploads/mars-size.png\" srcset=\"https://space-facts.com/wp-content/uploads/mars-size.png 760w, https://space-facts.com/wp-content/uploads/mars-size-300x118.png 300w\" width=\"760\"/><figcaption><span class=\"mars\">Mars</span> size compared to <span class=\"earth\">Earth</span></figcaption></figure></div><div class=\"wp-block-image\"><figure class=\"aligncenter\"><img alt=\"Mars distance from the Sun\" class=\"wp-image-6262\" height=\"50\" loading=\"lazy\" sizes=\"(max-width: 760px) 100vw, 760px\" src=\"https://space-facts.com/wp-content/uploads/mars-orbit.png\" srcset=\"https://space-facts.com/wp-content/uploads/mars-orbit.png 760w, https://space-facts.com/wp-content/uploads/mars-orbit-300x20.png 300w\" width=\"760\"/><figcaption><span class=\"mars\">Mars</span> distance from the <span class=\"sun\">Sun</span> and orbital eccentricity</figcaption></figure></div><table class=\"tablepress tablepress-id-comp-mars blue-table\" id=\"tablepress-comp-mars\"><thead><tr class=\"row-1\"><th class=\"column-1\"><strong>Mars - Earth Comparison</strong></th><th class=\"column-2\"><span class=\"mars\">Mars</span></th><th class=\"column-3\"><span class=\"earth\">Earth</span></th></tr></thead><tbody><tr class=\"row-2\"><td class=\"column-1\">Diameter:</td><td class=\"column-2\"><span class=\"mars-s\">6,779 km</span></td><td class=\"column-3\"><span class=\"earth-s\">12,742 km</span></td></tr><tr class=\"row-3\"><td class=\"column-1\">Mass:</td><td class=\"column-2\"><span class=\"mars-s\">6.39 × 10^23 kg</span></td><td class=\"column-3\"><span class=\"earth-s\">5.97 × 10^24 kg</span></td></tr><tr class=\"row-4\"><td class=\"column-1\">Moons:</td><td class=\"column-2\"><span class=\"mars-s\">2</span></td><td class=\"column-3\"><span class=\"earth-s\">1</span></td></tr><tr class=\"row-5\"><td class=\"column-1\">Distance from Sun:</td><td class=\"column-2\"><span class=\"mars-s\">227,943,824 km</span></td><td class=\"column-3\"><span class=\"earth-s\">149,598,262 km</span></td></tr><tr class=\"row-6\"><td class=\"column-1\">Length of Year:</td><td class=\"column-2\"><span class=\"mars-s\">687 Earth days</span></td><td class=\"column-3\"><span class=\"earth-s\">365.24 days</span></td></tr><tr class=\"row-7\"><td class=\"column-1\">Temperature:</td><td class=\"column-2\"><span class=\"mars-s\">-87 to -5 °C</span></td><td class=\"column-3\"><span class=\"earth-s\">-88 to 58°C</span></td></tr></tbody></table></div><h2>Mars Features</h2><h3>Moons</h3><p>Mars has two small moons, <a href=\"https://space-facts.com/moons/phobos/\">Phobos</a> and <a href=\"https://space-facts.com/moons/deimos/\">Deimos</a>. They were discovered in 1877 by astronomer Asaph Hall, who named them for the Latin terms “fear” and “panic”. These moons are thought to be captured asteroids and are among the smallest natural satellites in the solar system.</p><h3>Olympus Mons</h3><p>Mars has the largest volcano in the solar system – Olympus Mons. It measures some 600 kilometres across and rises nearly 27 kilometres above the surrounding terrain. It is a shield volcano built by the continuous action of flowing lava over millions and millions of years that began some 3 billion years ago.</p><p>Olympus Mons is part of a complex of volcanoes that lie along a volcanic plateau called the Tharsis Bulge. This entire region lies over a hotspot, a place in the planet’s crust that allows magma from deep inside to flow out to the surface.</p><h3>Valles Marineris</h3><p>The Valles Marineris is an extensive canyon system on the Mars equator. It is 4,200 kilometres long and, in places, is 7 kilometres deep. On Earth, it would span the entire North American continent and  beyond.</p><p>Mars has has a very primitive form of plate tectonics, and the action of two plates past each other began splitting the surface some 3.5 billion years ago. That set the stage for the formation of the Valles Marineris.</p><p class=\"sources\"><strong>Sources:</strong> <a href=\"https://solarsystem.nasa.gov/planets/mars/overview/\">https://solarsystem.nasa.gov/planets/mars/overview/</a> , <a href=\"https://nssdc.gsfc.nasa.gov/planetary/factsheet/marsfact.html\">https://nssdc.gsfc.nasa.gov/planetary/factsheet/marsfact.html</a>, <a href=\"https://astrogeology.usgs.gov/maps/mars-viking-hemisphere-point-perspectives\">https://astrogeology.usgs.gov/maps/mars-viking-hemisphere-point-perspectives</a> <br/><strong>First Published:</strong> June 2012<br/><strong>Last Updated:</strong> May 2020<br/><strong>Author:</strong> <a href=\"https://space-facts.com/about/#chris\">Chris Jones</a></p></div></article><div class=\"widget_text widget widget_custom_html widget-bottom\" id=\"custom_html-3\"><div class=\"textwidget custom-html-widget\"><div class=\"ad-bottom\"><center><script async=\"\" src=\"https://pagead2.googlesyndication.com/pagead/js/adsbygoogle.js\"></script> <ins class=\"adsbygoogle\" data-ad-client=\"ca-pub-4251889121233823\" data-ad-format=\"rectangle\" data-ad-slot=\"4958505060\" data-adsbygoogle-status=\"done\" data-full-width-responsive=\"true\" style=\"display: block; height: 280px;\"><ins id=\"aswift_2_expand\" style=\"display:inline-table;border:none;height:280px;margin:0;padding:0;position:relative;visibility:visible;width:400px;background-color:transparent;\"><ins id=\"aswift_2_anchor\" style=\"display:block;border:none;height:280px;margin:0;padding:0;position:relative;visibility:visible;width:400px;background-color:transparent;\"></ins></ins></ins> <script>(adsbygoogle = window.adsbygoogle || []).push({});</script></center></div></div></div><div class=\"widget widget_text widget-bottom\" id=\"text-69\"><div class=\"textwidget\"><h3 class=\"widget-title widget-header\">Related space facts:</h3><div class=\"jp-relatedposts\" id=\"jp-relatedposts\" style=\"display: block;\"><div class=\"jp-relatedposts-items jp-relatedposts-items-visual jp-relatedposts-grid\"><div class=\"jp-relatedposts-post jp-relatedposts-post0 jp-relatedposts-post-thumbs\" data-post-format=\"false\" data-post-id=\"424\"><a class=\"jp-relatedposts-post-a\" data-origin=\"7\" data-position=\"0\" href=\"https://space-facts.com/terrestrial-planets/\" title=\"Terrestrial Planet Facts\"><img alt=\"Terrestrial Planet Orbits\" class=\"jp-relatedposts-post-img\" src=\"https://i1.wp.com/space-facts.com/wp-content/uploads/terrestrial-planet-orbits.png?resize=350%2C200&amp;ssl=1\" width=\"350\"/></a><h4 class=\"jp-relatedposts-post-title\"><a class=\"jp-relatedposts-post-a\" data-origin=\"7\" data-position=\"0\" href=\"https://space-facts.com/terrestrial-planets/\" title=\"Terrestrial Planet Facts\">Terrestrial Planet Facts</a></h4><p class=\"jp-relatedposts-post-excerpt\">The four innermost planets of our solar system (Mercury, Venus, Earth and Mars) are called the \"terrestrial\" planets. The name comes from the word \"telluric\" derived from the Latin words \"terra\" and \"tellus\", used to refer to Earth. They are made mostly of silicate rocks and metals, with solid surfaces…</p></div><div class=\"jp-relatedposts-post jp-relatedposts-post1 jp-relatedposts-post-thumbs\" data-post-format=\"false\" data-post-id=\"119\"><a class=\"jp-relatedposts-post-a\" data-origin=\"7\" data-position=\"1\" href=\"https://space-facts.com/earth/\" title=\"Earth Facts\"><img alt=\"Earth\" class=\"jp-relatedposts-post-img\" src=\"https://i1.wp.com/space-facts.com/wp-content/uploads/earth.png?resize=350%2C200&amp;ssl=1\" width=\"350\"/></a><h4 class=\"jp-relatedposts-post-title\"><a class=\"jp-relatedposts-post-a\" data-origin=\"7\" data-position=\"1\" href=\"https://space-facts.com/earth/\" title=\"Earth Facts\">Earth Facts</a></h4><p class=\"jp-relatedposts-post-excerpt\">Earth is the third planet from the Sun and is the largest of the terrestrial planets. The Earth is the only planet in our solar system not to be named after a Greek or Roman deity. The Earth was formed approximately 4.54 billion years ago and is the only known…</p></div><div class=\"jp-relatedposts-post jp-relatedposts-post2 jp-relatedposts-post-thumbs\" data-post-format=\"false\" data-post-id=\"460\"><a class=\"jp-relatedposts-post-a\" data-origin=\"7\" data-position=\"2\" href=\"https://space-facts.com/asteroids/\" title=\"Asteroid Facts\"><img alt=\"Asteroid Vesta\" class=\"jp-relatedposts-post-img\" src=\"https://i0.wp.com/space-facts.com/wp-content/uploads/asteroid-vesta.png?resize=350%2C200&amp;ssl=1\" width=\"350\"/></a><h4 class=\"jp-relatedposts-post-title\"><a class=\"jp-relatedposts-post-a\" data-origin=\"7\" data-position=\"2\" href=\"https://space-facts.com/asteroids/\" title=\"Asteroid Facts\">Asteroid Facts</a></h4><p class=\"jp-relatedposts-post-excerpt\">What is an Asteroid? Asteroids are small, rocky solar system bodies that populate interplanetary space out to the orbit of Jupiter. There are millions of them, and they are often grouped by their composition. The planetary science community refers to them as minor planets, a general term applied to solar…</p></div></div></div></div></div><div class=\"comments-area\" id=\"comments\"></div></main></section><section class=\"sidebar widget-area clearfix\" id=\"secondary\" role=\"complementary\" style=\"height: auto !important;\"><aside class=\"widget widget_text clearfix\" id=\"text-2\"><div class=\"widget-header\"><h3 class=\"widget-title\">Mars Planet Profile</h3></div><div class=\"textwidget\"><table class=\"tablepress tablepress-id-p-mars\" id=\"tablepress-p-mars-no-2\"><tbody><tr class=\"row-1 odd\"><td class=\"column-1\"><strong>Equatorial Diameter:</strong></td><td class=\"column-2\">6,792 km<br/></td></tr><tr class=\"row-2 even\"><td class=\"column-1\"><strong>Polar Diameter:</strong></td><td class=\"column-2\">6,752 km<br/></td></tr><tr class=\"row-3 odd\"><td class=\"column-1\"><strong>Mass:</strong></td><td class=\"column-2\">6.39 × 10^23 kg<br/> (0.11 Earths)</td></tr><tr class=\"row-4 even\"><td class=\"column-1\"><strong>Moons:</strong></td><td class=\"column-2\">2 (<a href=\"https://space-facts.com/moons/phobos/\">Phobos</a> &amp; <a href=\"https://space-facts.com/moons/deimos/\">Deimos</a>)</td></tr><tr class=\"row-5 odd\"><td class=\"column-1\"><strong>Orbit Distance:</strong></td><td class=\"column-2\">227,943,824 km<br/> (1.38 AU)</td></tr><tr class=\"row-6 even\"><td class=\"column-1\"><strong>Orbit Period:</strong></td><td class=\"column-2\">687 days (1.9 years)<br/></td></tr><tr class=\"row-7 odd\"><td class=\"column-1\"><strong>Surface Temperature: </strong></td><td class=\"column-2\">-87 to -5 °C</td></tr><tr class=\"row-8 even\"><td class=\"column-1\"><strong>First Record:</strong></td><td class=\"column-2\">2nd millennium BC</td></tr><tr class=\"row-9 odd\"><td class=\"column-1\"><strong>Recorded By:</strong></td><td class=\"column-2\">Egyptian astronomers</td></tr></tbody></table></div></aside><aside class=\"widget_text widget widget_custom_html clearfix\" id=\"custom_html-7\"><div class=\"widget-header\"><h3 class=\"widget-title\">Planets</h3></div><div class=\"textwidget custom-html-widget\"><ul class=\"widgets-list-layout\"><li><a href=\"/mercury/\"> <img alt=\"Mercury Facts\" height=\"50\" src=\"https://space-facts.com/wp-content/uploads/mercury-50x50.png\" width=\"50\"/><div class=\"widgets-list-layout-links\">Mercury</div></a></li><li><a href=\"/venus/\"> <img alt=\"Venus Facts\" height=\"50\" src=\"https://space-facts.com/wp-content/uploads/venus-50x50.png\" width=\"50\"/><div class=\"widgets-list-layout-links\">Venus</div></a></li><li><a href=\"/earth/\"> <img alt=\"Earth Facts\" height=\"50\" src=\"https://space-facts.com/wp-content/uploads/earth-50x50.png\" width=\"50\"/><div class=\"widgets-list-layout-links\">Earth</div></a></li><li><a href=\"/mars/\"> <img alt=\"Mars Facts\" height=\"50\" src=\"https://space-facts.com/wp-content/uploads/mars-50x50.jpg\" width=\"50\"/><div class=\"widgets-list-layout-links\">Mars</div></a></li><li><a href=\"/jupiter/\"> <img alt=\"Jupiter Facts\" height=\"50\" src=\"https://space-facts.com/wp-content/uploads/jupiter-50x50.png\" width=\"50\"/><div class=\"widgets-list-layout-links\">Jupiter</div></a></li><li><a href=\"/saturn/\"> <img alt=\"Saturn Facts\" height=\"50\" src=\"https://space-facts.com/wp-content/uploads/saturn-50x50.png\" width=\"50\"/><div class=\"widgets-list-layout-links\">Saturn</div></a></li><li><a href=\"/uranus/\"> <img alt=\"Uranus Facts\" height=\"50\" src=\"https://space-facts.com/wp-content/uploads/uranus-50x50.jpg\" width=\"50\"/><div class=\"widgets-list-layout-links\">Uranus</div></a></li><li><a href=\"/neptune/\"> <img alt=\"Neptune Facts\" height=\"50\" src=\"https://space-facts.com/wp-content/uploads/neptune-50x50.png\" width=\"50\"/><div class=\"widgets-list-layout-links\">Neptune</div></a></li></ul></div></aside><aside class=\"widget_text widget widget_custom_html clearfix\" id=\"custom_html-4\"><div class=\"textwidget custom-html-widget\"><script async=\"\" src=\"https://pagead2.googlesyndication.com/pagead/js/adsbygoogle.js\"></script> <ins class=\"adsbygoogle\" data-ad-client=\"ca-pub-4251889121233823\" data-ad-format=\"vertical\" data-ad-slot=\"3223531810\" data-adsbygoogle-status=\"done\" data-full-width-responsive=\"true\" style=\"display: block; height: 600px;\"><ins aria-label=\"Advertisement\" id=\"aswift_3_expand\" style=\"display:inline-table;border:none;height:600px;margin:0;padding:0;position:relative;visibility:visible;width:254px;background-color:transparent;\" tabindex=\"0\" title=\"Advertisement\"><ins id=\"aswift_3_anchor\" style=\"display: block; border: none; height: 600px; margin: 0px; padding: 0px; position: relative; visibility: visible; width: 254px; background-color: transparent; overflow: visible;\"><iframe allowfullscreen=\"true\" allowtransparency=\"true\" data-google-container-id=\"a!4\" data-google-query-id=\"CKizz5mlp-8CFTgHrQYdsAkMkw\" data-load-complete=\"true\" frameborder=\"0\" height=\"600\" hspace=\"0\" id=\"aswift_3\" marginheight=\"0\" marginwidth=\"0\" name=\"aswift_3\" sandbox=\"allow-forms allow-popups allow-popups-to-escape-sandbox allow-same-origin allow-scripts allow-top-navigation-by-user-activation\" scrolling=\"no\" src=\"https://googleads.g.doubleclick.net/pagead/ads?client=ca-pub-4251889121233823&amp;output=html&amp;h=600&amp;slotname=3223531810&amp;adk=501802805&amp;adf=4114466516&amp;pi=t.ma~as.3223531810&amp;w=254&amp;fwrn=4&amp;fwrnh=100&amp;lmt=1615433085&amp;rafmt=4&amp;psa=0&amp;format=254x600&amp;url=https%3A%2F%2Fspace-facts.com%2Fmars%2F&amp;flash=0&amp;fwr=0&amp;fwrattr=true&amp;rpe=1&amp;resp_fmts=4&amp;wgl=1&amp;dt=1615433085534&amp;bpp=3&amp;bdt=1500&amp;idt=343&amp;shv=r20210309&amp;cbv=r20190131&amp;ptt=9&amp;saldr=aa&amp;abxe=1&amp;prev_fmts=0x0%2C728x90&amp;nras=1&amp;correlator=751242702708&amp;frm=20&amp;pv=1&amp;ga_vid=777901994.1615433085&amp;ga_sid=1615433086&amp;ga_hid=1200919674&amp;ga_fc=0&amp;u_tz=-300&amp;u_his=2&amp;u_java=0&amp;u_h=1080&amp;u_w=1920&amp;u_ah=1040&amp;u_aw=1920&amp;u_cd=24&amp;u_nplug=3&amp;u_nmime=4&amp;adx=626&amp;ady=1679&amp;biw=912&amp;bih=888&amp;scr_x=0&amp;scr_y=0&amp;eid=44736524%2C21066432%2C21066922&amp;oid=3&amp;pvsid=3568747617061969&amp;pem=941&amp;rx=0&amp;eae=0&amp;fc=1920&amp;brdim=10%2C10%2C10%2C10%2C1920%2C0%2C945%2C1020%2C929%2C888&amp;vis=1&amp;rsz=%7C%7CeEbr%7C&amp;abl=CS&amp;pfx=0&amp;fu=8320&amp;bc=31&amp;ifi=4&amp;uci=a!4&amp;btvi=1&amp;fsb=1&amp;xpc=z22xfhYexH&amp;p=https%3A//space-facts.com&amp;dtd=349\" style=\"left:0;position:absolute;top:0;border:0;width:254px;height:600px;\" vspace=\"0\" width=\"254\"></iframe></ins></ins></ins> <script>(adsbygoogle = window.adsbygoogle || []).push({});</script></div></aside><aside class=\"widget widget_recent_entries clearfix\" id=\"recent-posts-2\"><div class=\"widget-header\"><h3 class=\"widget-title\">Recent Posts</h3></div><ul><li> <a href=\"https://space-facts.com/dr-james-odonoghues-space-animations/\">Dr James O’Donoghue’s Space Animations</a></li><li> <a href=\"https://space-facts.com/googles-planet-scale-mistake/\">Google’s Planet Scale Mistake</a></li><li> <a href=\"https://space-facts.com/the-ultimate-list-of-tv-shows-set-in-space-or-on-other-planets/\">The Ultimate List of TV Shows set in Space or on Other Planets</a></li><li> <a href=\"https://space-facts.com/jupiters-galilean-moons-profile-gifs/\">Jupiter’s Galilean Moons (Profile Gifs)</a></li><li> <a href=\"https://space-facts.com/planets-moons-star-wars/\">The Planets and Moons of Star Wars to Scale</a></li><li> <a href=\"https://space-facts.com/planet-orbits/\">Planet Orbits</a></li></ul></aside></section></div><div class=\"footer-widgets-wrap\" id=\"footer-widgets-wrap\"><div class=\"footer-widgets container\" id=\"footer-widgets\"><div class=\"footer-widgets-columns clearfix\" id=\"footer-widgets-columns\" role=\"complementary\"><div class=\"footer-widget-column\"></div></div></div></div><div class=\"footer-wrap\" id=\"footer\"><footer class=\"site-footer container clearfix\" id=\"colophon\" role=\"contentinfo\"><div class=\"site-info\" id=\"footer-text\"> © Copyright 2019 Space Facts</div><nav class=\"footer-navigation navigation clearfix\" id=\"footer-navigation\" role=\"navigation\"><ul class=\"footer-navigation-menu\" id=\"menu-footer\"><li class=\"menu-item menu-item-type-post_type menu-item-object-page menu-item-5584\" id=\"menu-item-5584\"><a href=\"https://space-facts.com/blog/\">Blog</a></li><li class=\"menu-item menu-item-type-post_type menu-item-object-page menu-item-5585\" id=\"menu-item-5585\"><a href=\"https://space-facts.com/about/\">About</a></li><li class=\"menu-item menu-item-type-post_type menu-item-object-page menu-item-5595\" id=\"menu-item-5595\"><a href=\"https://space-facts.com/contact/\">Contact</a></li><li class=\"menu-item menu-item-type-post_type menu-item-object-page menu-item-5589\" id=\"menu-item-5589\"><a href=\"https://space-facts.com/privacy-policy/\">Privacy Policy</a></li></ul></nav></footer></div></div> <script id=\"megamenu-js-extra\" type=\"text/javascript\">var megamenu = {\"timeout\":\"300\",\"interval\":\"100\"};</script> <script defer=\"\" src=\"https://stats.wp.com/e-202110.js\"></script> <script>_stq = window._stq || [];\n",
       "\t_stq.push([ 'view', {v:'ext',j:'1:9.5',blog:'37359843',post:'7',tz:'0',srv:'space-facts.com'} ]);\n",
       "\t_stq.push([ 'clickTrackerInit', '37359843', '7' ]);</script> <script defer=\"\" src=\"https://space-facts.com/wp-content/cache/autoptimize/js/autoptimize_ef843f31f8d8e6eb24d8505ab37d29d2.js\"></script><img alt=\":)\" height=\"5\" id=\"wpstats\" src=\"https://pixel.wp.com/g.gif?v=ext&amp;j=1%3A9.5&amp;blog=37359843&amp;post=7&amp;tz=0&amp;srv=space-facts.com&amp;host=space-facts.com&amp;ref=&amp;fcp=2763&amp;rand=0.046762081212457174\" width=\"6\"/><ins class=\"adsbygoogle adsbygoogle-noablate\" data-adsbygoogle-status=\"done\" style=\"display: none !important;\"><ins aria-label=\"Advertisement\" id=\"aswift_0_expand\" style=\"display:inline-table;border:none;height:0px;margin:0;padding:0;position:relative;visibility:visible;width:0px;background-color:transparent;\" tabindex=\"0\" title=\"Advertisement\"><ins id=\"aswift_0_anchor\" style=\"display:block;border:none;height:0px;margin:0;padding:0;position:relative;visibility:visible;width:0px;background-color:transparent;\"><iframe allowfullscreen=\"true\" allowtransparency=\"true\" data-google-container-id=\"a!1\" data-load-complete=\"true\" frameborder=\"0\" hspace=\"0\" id=\"aswift_0\" marginheight=\"0\" marginwidth=\"0\" name=\"aswift_0\" sandbox=\"allow-forms allow-popups allow-popups-to-escape-sandbox allow-same-origin allow-scripts allow-top-navigation-by-user-activation\" scrolling=\"no\" src=\"https://googleads.g.doubleclick.net/pagead/ads?client=ca-pub-4251889121233823&amp;output=html&amp;adk=1812271804&amp;adf=3025194257&amp;lmt=1615433085&amp;plat=1%3A8%2C2%3A8%2C9%3A32776%2C16%3A8388608%2C17%3A32%2C24%3A32%2C25%3A32%2C30%3A1048576%2C32%3A32&amp;format=0x0&amp;url=https%3A%2F%2Fspace-facts.com%2Fmars%2F&amp;ea=0&amp;flash=0&amp;pra=5&amp;wgl=1&amp;dt=1615433085443&amp;bpp=48&amp;bdt=1409&amp;idt=309&amp;shv=r20210309&amp;cbv=r20190131&amp;ptt=9&amp;saldr=aa&amp;abxe=1&amp;nras=1&amp;correlator=751242702708&amp;frm=20&amp;pv=2&amp;ga_vid=777901994.1615433085&amp;ga_sid=1615433086&amp;ga_hid=1200919674&amp;ga_fc=0&amp;u_tz=-300&amp;u_his=2&amp;u_java=0&amp;u_h=1080&amp;u_w=1920&amp;u_ah=1040&amp;u_aw=1920&amp;u_cd=24&amp;u_nplug=3&amp;u_nmime=4&amp;adx=-12245933&amp;ady=-12245933&amp;biw=912&amp;bih=888&amp;scr_x=0&amp;scr_y=0&amp;eid=44736524%2C21066432%2C21066922&amp;oid=3&amp;pvsid=3568747617061969&amp;pem=941&amp;rx=0&amp;eae=2&amp;fc=1920&amp;brdim=10%2C10%2C10%2C10%2C1920%2C0%2C945%2C1020%2C929%2C888&amp;vis=1&amp;rsz=%7C%7Cs%7C&amp;abl=NS&amp;fu=8192&amp;bc=31&amp;ifi=1&amp;uci=a!1&amp;fsb=1&amp;dtd=352\" style=\"left:0;position:absolute;top:0;border:0;width:undefinedpx;height:undefinedpx;\" vspace=\"0\"></iframe></ins></ins></ins><aside class=\"widget widget_eu_cookie_law_widget clearfix\" id=\"eu_cookie_law_widget-2\"><div class=\"hide-on-button negative\" data-consent-expiration=\"180\" data-hide-timeout=\"30\" id=\"eu-cookie-law\"><form method=\"post\"> <input class=\"accept\" type=\"submit\" value=\"Close and accept\"/></form> Privacy &amp; Cookies: This site uses cookies. By continuing to use this website, you agree to their use. <br/> To find out more, including how to control cookies, see here: <a href=\"https://space-facts.com/privacy-policy/\" rel=\"\"> Cookie Policy </a></div></aside><iframe id=\"google_osd_static_frame_9116561622730\" name=\"google_osd_static_frame\" style=\"display: none; width: 0px; height: 0px;\"></iframe></body><iframe data-ad-client=\"ca-pub-4251889121233823\" id=\"google_esf\" name=\"google_esf\" src=\"https://googleads.g.doubleclick.net/pagead/html/r20210309/r20190131/zrt_lookup.html#\" style=\"display: none;\"></iframe></html>"
      ]
     },
     "execution_count": 28,
     "metadata": {},
     "output_type": "execute_result"
    }
   ],
   "source": [
    "#Mars Fact Table\n",
    "mars_facts_url = 'https://space-facts.com/mars/'\n",
    "\n",
    "executable_path = {'executable_path': ChromeDriverManager().install()}\n",
    "browser = Browser('chrome', **executable_path, headless=False)\n",
    "\n",
    "browser.visit(mars_facts_url)\n",
    "\n",
    "html = browser.html\n",
    "soup = BeautifulSoup(html, \"html.parser\")\n",
    "soup"
   ]
  },
  {
   "cell_type": "markdown",
   "metadata": {},
   "source": [
    "## DataFrame Conversion"
   ]
  },
  {
   "cell_type": "code",
   "execution_count": 36,
   "metadata": {},
   "outputs": [
    {
     "name": "stdout",
     "output_type": "stream",
     "text": [
      "                      0                              1\n",
      "0  Equatorial Diameter:                       6,792 km\n",
      "1       Polar Diameter:                       6,752 km\n",
      "2                 Mass:  6.39 × 10^23 kg (0.11 Earths)\n",
      "3                Moons:            2 (Phobos & Deimos)\n",
      "4       Orbit Distance:       227,943,824 km (1.38 AU)\n",
      "5         Orbit Period:           687 days (1.9 years)\n",
      "6  Surface Temperature:                   -87 to -5 °C\n",
      "7         First Record:              2nd millennium BC\n",
      "8          Recorded By:           Egyptian astronomers\n"
     ]
    },
    {
     "data": {
      "text/html": [
       "<div>\n",
       "<style scoped>\n",
       "    .dataframe tbody tr th:only-of-type {\n",
       "        vertical-align: middle;\n",
       "    }\n",
       "\n",
       "    .dataframe tbody tr th {\n",
       "        vertical-align: top;\n",
       "    }\n",
       "\n",
       "    .dataframe thead th {\n",
       "        text-align: right;\n",
       "    }\n",
       "</style>\n",
       "<table border=\"1\" class=\"dataframe\">\n",
       "  <thead>\n",
       "    <tr style=\"text-align: right;\">\n",
       "      <th></th>\n",
       "      <th>Cool Fact</th>\n",
       "    </tr>\n",
       "    <tr>\n",
       "      <th>Planet Profile</th>\n",
       "      <th></th>\n",
       "    </tr>\n",
       "  </thead>\n",
       "  <tbody>\n",
       "    <tr>\n",
       "      <th>Equatorial Diameter:</th>\n",
       "      <td>6,792 km</td>\n",
       "    </tr>\n",
       "    <tr>\n",
       "      <th>Polar Diameter:</th>\n",
       "      <td>6,752 km</td>\n",
       "    </tr>\n",
       "    <tr>\n",
       "      <th>Mass:</th>\n",
       "      <td>6.39 × 10^23 kg (0.11 Earths)</td>\n",
       "    </tr>\n",
       "    <tr>\n",
       "      <th>Moons:</th>\n",
       "      <td>2 (Phobos &amp; Deimos)</td>\n",
       "    </tr>\n",
       "    <tr>\n",
       "      <th>Orbit Distance:</th>\n",
       "      <td>227,943,824 km (1.38 AU)</td>\n",
       "    </tr>\n",
       "    <tr>\n",
       "      <th>Orbit Period:</th>\n",
       "      <td>687 days (1.9 years)</td>\n",
       "    </tr>\n",
       "    <tr>\n",
       "      <th>Surface Temperature:</th>\n",
       "      <td>-87 to -5 °C</td>\n",
       "    </tr>\n",
       "    <tr>\n",
       "      <th>First Record:</th>\n",
       "      <td>2nd millennium BC</td>\n",
       "    </tr>\n",
       "    <tr>\n",
       "      <th>Recorded By:</th>\n",
       "      <td>Egyptian astronomers</td>\n",
       "    </tr>\n",
       "  </tbody>\n",
       "</table>\n",
       "</div>"
      ],
      "text/plain": [
       "                                          Cool Fact\n",
       "Planet Profile                                     \n",
       "Equatorial Diameter:                       6,792 km\n",
       "Polar Diameter:                            6,752 km\n",
       "Mass:                 6.39 × 10^23 kg (0.11 Earths)\n",
       "Moons:                          2 (Phobos & Deimos)\n",
       "Orbit Distance:            227,943,824 km (1.38 AU)\n",
       "Orbit Period:                  687 days (1.9 years)\n",
       "Surface Temperature:                   -87 to -5 °C\n",
       "First Record:                     2nd millennium BC\n",
       "Recorded By:                   Egyptian astronomers"
      ]
     },
     "execution_count": 36,
     "metadata": {},
     "output_type": "execute_result"
    }
   ],
   "source": [
    "#Table to Dataframe conversion\n",
    "mars_table = pd.read_html(\"https://space-facts.com/mars/\")[0]\n",
    "print(mars_table)\n",
    "mars_table.columns=[\"Planet Profile\", \"Cool Fact\"]\n",
    "mars_table.set_index(\"Planet Profile\", inplace=True)\n",
    "mars_table"
   ]
  },
  {
   "cell_type": "markdown",
   "metadata": {},
   "source": [
    "## Mars Hemisphere "
   ]
  },
  {
   "cell_type": "code",
   "execution_count": 39,
   "metadata": {},
   "outputs": [
    {
     "name": "stderr",
     "output_type": "stream",
     "text": [
      "[WDM] - ====== WebDriver manager ======\n",
      "[WDM] - Current google-chrome version is 89.0.4389\n",
      "[WDM] - Get LATEST driver version for 89.0.4389\n",
      "[WDM] - Driver [C:\\Users\\JerBear\\.wdm\\drivers\\chromedriver\\win32\\89.0.4389.23\\chromedriver.exe] found in cache\n"
     ]
    },
    {
     "name": "stdout",
     "output_type": "stream",
     "text": [
      "\n",
      "\n"
     ]
    },
    {
     "data": {
      "text/plain": [
       "<html lang=\"en\"><head>\n",
       "<link href=\"//ajax.googleapis.com/ajax/libs/jqueryui/1.11.3/themes/smoothness/jquery-ui.css\" rel=\"stylesheet\" type=\"text/css\"/>\n",
       "<title>Astropedia Search Results | USGS Astrogeology Science Center</title>\n",
       "<meta content=\"USGS Astrogeology Science Center Astropedia search results.\" name=\"description\"/>\n",
       "<meta content=\"USGS,Astrogeology Science Center,Cartography,Geology,Space,Geological Survey,Mapping\" name=\"keywords\"/>\n",
       "<meta content=\"IE=edge\" http-equiv=\"X-UA-Compatible\"/>\n",
       "<meta content=\"text/html; charset=utf-8\" http-equiv=\"Content-Type\"/>\n",
       "<meta content=\"width=device-width, initial-scale=1, maximum-scale=1\" name=\"viewport\"/>\n",
       "<meta content=\"x61hXXVj7wtfBSNOPnTftajMsZ5yB2W-qRoyr7GtOKM\" name=\"google-site-verification\"/>\n",
       "<!--<link rel=\"stylesheet\" href=\"http://fonts.googleapis.com/css?family=Open+Sans:400italic,400,bold\"/>-->\n",
       "<link href=\"/css/main.css\" media=\"screen\" rel=\"stylesheet\"/>\n",
       "<link href=\"/css/print.css\" media=\"print\" rel=\"stylesheet\"/>\n",
       "<!--[if lt IE 9]>\n",
       "\t\t\t<script src=\"http://html5shiv.googlecode.com/svn/trunk/html5.js\"></script>\n",
       "\t\t\t<script src=\"/js/respond.min.js\"></script>\n",
       "\t\t\t<link rel=\"stylesheet\" type=\"text/css\" href=\"/css/ie.css\"/>\n",
       "                        <script>\n",
       "                          document.createElement('header');\n",
       "                          document.createElement('nav');\n",
       "                          document.createElement('section');\n",
       "                          document.createElement('article');\n",
       "                          document.createElement('aside');\n",
       "                          document.createElement('footer');\n",
       "                          document.createElement('hgroup');\n",
       "                        </script>\n",
       "                  <![endif]-->\n",
       "<link href=\"/favicon.ico\" rel=\"icon\" type=\"image/x-ico\"/>\n",
       "</head>\n",
       "<body id=\"results\">\n",
       "<header>\n",
       "<!--\n",
       "\t\t\t<h1>Astrogeology Science Center</h1>\n",
       "-->\n",
       "<a href=\"https://www.usgs.gov/centers/astrogeo-sc\" style=\"float:right;margin-top:10px;\" target=\"_blank\">\n",
       "<img alt=\"USGS: Science for a Changing World\" class=\"logo\" height=\"60\" src=\"/images/usgs_logo_main_2x.png\"/>\n",
       "</a>\n",
       "<a href=\"https://nasa.gov\" style=\"float:right;margin-top:5px;margin-right:20px;\" target=\"_blank\">\n",
       "<img alt=\"NASA\" class=\"logo\" height=\"65\" src=\"/images/logos/nasa-logo-web-med.png\"/>\n",
       "</a>\n",
       "<a href=\"https://www.usgs.gov/centers/astrogeology-science-center/science/pds-cartography-and-imaging-sciences-node-usgs\" style=\"float:right;margin-top:5px;margin-right: 10px;\" target=\"_blank\">\n",
       "<img alt=\"PDS Cartography and Imaging Science Node\" class=\"logo\" height=\"65\" src=\"/images/pds_logo-invisible-web.png\"/>\n",
       "</a>\n",
       "</header>\n",
       "<div class=\"wrapper\">\n",
       "<!--\n",
       "\t\t\t<nav>\n",
       "\t\t\t\t<a id=\"nav-toggle\" href=\"#\" title=\"Navigation Menu\">Menu</a>\n",
       "<ul class=\"dropdown dropdown-horizontal\" id=\"yw0\">\n",
       "<li><a href=\"/\">Home</a></li>\n",
       "<li><a href=\"/about\">About</a>\n",
       "<ul>\n",
       "<li><a href=\"/about/careers\">Careers</a></li>\n",
       "<li><a href=\"/contact\">Contact</a></li>\n",
       "<li><a href=\"/about/events\">Events</a></li>\n",
       "<li><a href=\"/site/glossary\">Glossary</a></li>\n",
       "<li><a href=\"/about/mission\">Mission</a></li>\n",
       "<li><a href=\"/news\">News</a></li>\n",
       "<li><a href=\"/people\">People</a></li>\n",
       "<li><a href=\"/about/using-our-images\">Using Our Images</a></li>\n",
       "<li><a href=\"/about/visitors\">Visitors</a></li>\n",
       "</ul>\n",
       "</li>\n",
       "<li><a href=\"/facilities\">Labs / Facilities</a>\n",
       "<ul>\n",
       "<li><a href=\"/facilities/flynn-creek-crater-sample-collection\">Flynn Creek Crater Sample Collection</a></li>\n",
       "<li><a href=\"http://www.moon-cal.org\">Lunar Calibration Project</a></li>\n",
       "<li><a href=\"/facilities/meteor-crater-sample-collection\">Meteor Crater Sample Collection</a></li>\n",
       "<li><a href=\"/facilities/mrctr\">MRCTR GIS Lab</a></li>\n",
       "<li><a href=\"/facilities/cartography-and-imaging-sciences-node-of-nasa-planetary-data-system\">PDS Cartography and Imaging Sciences Node</a></li>\n",
       "<li><a href=\"/pds/annex\">PDS IMG Annex</a></li>\n",
       "<li><a href=\"/facilities/photogrammetry-guest-facility\">Photogrammetry Guest Facility</a></li>\n",
       "<li><a href=\"/rpif\">Regional Planetary Information Facility (RPIF)</a></li>\n",
       "</ul>\n",
       "</li>\n",
       "<li><a href=\"/maps\">Maps / Products</a>\n",
       "<ul>\n",
       "<li><a href=\"/search\">Product Search</a></li>\n",
       "<li><a href=\"http://planetarynames.wr.usgs.gov\">Gazetteer of Planetary Nomenclature</a></li>\n",
       "<li><a href=\"http://planetarymapping.wr.usgs.gov\">Geologic Mapping Program</a></li>\n",
       "<li><a href=\"http://pilot.wr.usgs.gov\">Planetary Image Locator Tool (PILOT)</a></li>\n",
       "<li><a href=\"/search/planetary-index\">Planetary Map Index</a></li>\n",
       "</ul>\n",
       "</li>\n",
       "<li><a href=\"/geology\">Missions / Research</a>\n",
       "<ul>\n",
       "<li><a href=\"/geology/mars-dunes\">Mars Dunes</a></li>\n",
       "<li><a href=\"/geology/mars-ice\">Mars Ice</a></li>\n",
       "<li><a href=\"/missions\">Mission Support</a></li>\n",
       "<li><a href=\"/solar-system\">Solar System</a></li>\n",
       "<li><a href=\"/groups\">Working Groups</a></li>\n",
       "</ul>\n",
       "</li>\n",
       "<li><a href=\"/tools\">Tools</a>\n",
       "<ul>\n",
       "<li><a href=\"http://planetarynames.wr.usgs.gov\">Gazetteer of Planetary Nomenclature</a></li>\n",
       "<li><a href=\"http://isis.astrogeology.usgs.gov\">Integrated Software for Imagers and Spectrometers (ISIS)</a></li>\n",
       "<li><a href=\"http://astrogeology.usgs.gov/tools/map\">Map a Planet 2</a></li>\n",
       "<li><a href=\"http://pilot.wr.usgs.gov\">Planetary Image Locator Tool (PILOT)</a></li>\n",
       "<li><a href=\"http://astrocloud.wr.usgs.gov/\">Projection on the Web (POW)</a></li>\n",
       "</ul>\n",
       "</li>\n",
       "</ul>\t\t\t\t<form id=\"search\" class=\"search\" action=\"/search/results\" method=\"get\">\n",
       "\t\t\t\t\t<input type=\"submit\" value=\"\" title=\"Search Astropedia\"/>\n",
       "\t\t\t\t\t<input type=\"text\" placeholder=\"Search\" name=\"q\"/>\n",
       "\t\t\t\t</form>\n",
       "\t\t\t</nav>\n",
       "-->\n",
       "<div class=\"container\">\n",
       "<div class=\"widget block bar\">\n",
       "<a href=\"/search\" style=\"float:right;text-decoration:none;\">\n",
       "<img alt=\"Astropedia\" src=\"/images/astropedia/astropedia-logo-main.png\" style=\"width:200px;border:none;float:right;\"/>\n",
       "<div style=\"clear:both;font-size:.8em;float:right;color:#888;\">Lunar and Planetary Cartographic Catalog</div>\n",
       "</a>\n",
       "<div style=\"float:left;height:60px;\">\n",
       "</div>\n",
       "</div>\n",
       "<form action=\"/search/results\" class=\"bar widget block\" id=\"search-bar\">\n",
       "<input name=\"q\" type=\"hidden\" value=\"hemisphere-enhanced\"/>\n",
       "<input name=\"target\" type=\"hidden\" value=\"Mars\"/><input name=\"__ncforminfo\" type=\"hidden\" value=\"iRx7FzOdsluuZCnP8YsN75DWSQ1T11CrBVxI3q6hGmv3OvU-jfGBOQ1N41mgiEdx7_srQxjGSZ5aTuomuwlZfQEYgjAGsEgXoYIJJkZQLGkqQ0hRePRxfg==\"/></form><div class=\"full-content\">\n",
       "<section class=\"block\" id=\"results-accordian\">\n",
       "<div class=\"result-list\" data-section=\"product\" id=\"product-section\">\n",
       "<div class=\"accordian\">\n",
       "<h2>Products</h2>\n",
       "<span class=\"count\">4 Results</span>\n",
       "<span class=\"collapse\">Collapse</span>\n",
       "</div>\n",
       "<div class=\"collapsible results\">\n",
       "<div class=\"item\"><a class=\"itemLink product-item\" href=\"/search/map/Mars/Viking/cerberus_enhanced\"><img alt=\"Cerberus Hemisphere Enhanced thumbnail\" class=\"thumb\" src=\"/cache/images/39d3266553462198bd2fbc4d18fbed17_cerberus_enhanced.tif_thumb.png\"/></a><div class=\"description\"><a class=\"itemLink product-item\" href=\"/search/map/Mars/Viking/cerberus_enhanced\"><h3>Cerberus Hemisphere Enhanced</h3></a><span class=\"subtitle\" style=\"float:left\">image/tiff 21 MB</span><span class=\"pubDate\" style=\"float:right\"></span><br/><p>Mosaic of the Cerberus hemisphere of Mars projected into point perspective, a view similar to that which one would see from a spacecraft. This mosaic is composed of 104 Viking Orbiter images acquired…</p></div> <!-- end description --></div><div class=\"item\"><a class=\"itemLink product-item\" href=\"/search/map/Mars/Viking/schiaparelli_enhanced\"><img alt=\"Schiaparelli Hemisphere Enhanced thumbnail\" class=\"thumb\" src=\"/cache/images/08eac6e22c07fb1fe72223a79252de20_schiaparelli_enhanced.tif_thumb.png\"/></a><div class=\"description\"><a class=\"itemLink product-item\" href=\"/search/map/Mars/Viking/schiaparelli_enhanced\"><h3>Schiaparelli Hemisphere Enhanced</h3></a><span class=\"subtitle\" style=\"float:left\">image/tiff 35 MB</span><span class=\"pubDate\" style=\"float:right\"></span><br/><p>Mosaic of the Schiaparelli hemisphere of Mars projected into point perspective, a view similar to that which one would see from a spacecraft. The images were acquired in 1980 during early northern…</p></div> <!-- end description --></div><div class=\"item\"><a class=\"itemLink product-item\" href=\"/search/map/Mars/Viking/syrtis_major_enhanced\"><img alt=\"Syrtis Major Hemisphere Enhanced thumbnail\" class=\"thumb\" src=\"/cache/images/55a0a1e2796313fdeafb17c35925e8ac_syrtis_major_enhanced.tif_thumb.png\"/></a><div class=\"description\"><a class=\"itemLink product-item\" href=\"/search/map/Mars/Viking/syrtis_major_enhanced\"><h3>Syrtis Major Hemisphere Enhanced</h3></a><span class=\"subtitle\" style=\"float:left\">image/tiff 25 MB</span><span class=\"pubDate\" style=\"float:right\"></span><br/><p>Mosaic of the Syrtis Major hemisphere of Mars projected into point perspective, a view similar to that which one would see from a spacecraft. This mosaic is composed of about 100 red and violet…</p></div> <!-- end description --></div><div class=\"item\"><a class=\"itemLink product-item\" href=\"/search/map/Mars/Viking/valles_marineris_enhanced\"><img alt=\"Valles Marineris Hemisphere Enhanced thumbnail\" class=\"thumb\" src=\"/cache/images/4e59980c1c57f89c680c0e1ccabbeff1_valles_marineris_enhanced.tif_thumb.png\"/></a><div class=\"description\"><a class=\"itemLink product-item\" href=\"/search/map/Mars/Viking/valles_marineris_enhanced\"><h3>Valles Marineris Hemisphere Enhanced</h3></a><span class=\"subtitle\" style=\"float:left\">image/tiff 27 MB</span><span class=\"pubDate\" style=\"float:right\"></span><br/><p>Mosaic of the Valles Marineris hemisphere of Mars projected into point perspective, a view similar to that which one would see from a spacecraft. The distance is 2500 kilometers from the surface of…</p></div> <!-- end description --></div><script>addBases=[];;if(typeof resetLayerSwitcher===\"function\"){resetLayerSwitcher(false)};var productTotal = 4;</script>\n",
       "</div> <!-- end this-section -->\n",
       "</div>\n",
       "</section>\n",
       "</div>\n",
       "</div>\n",
       "<div class=\"icons projects black scroll-wrapper\">\n",
       "<div class=\"scroll\">\n",
       "<a class=\"icon\" href=\"http://isis.astrogeology.usgs.gov\" title=\"Integrated Software for Imagers and Spectrometers\">\n",
       "<img alt=\"ISIS Logo\" height=\"112\" src=\"/images/logos/isis_2x.jpg\" width=\"112\"/>\n",
       "<span class=\"label\">ISIS</span>\n",
       "</a>\n",
       "<a class=\"icon\" href=\"http://planetarynames.wr.usgs.gov\" title=\"Gazetteer of Planetary Nomenclature\">\n",
       "<img alt=\"Nomenclature Logo\" height=\"112\" src=\"/images/logos/nomenclature_2x.jpg\" width=\"112\"/>\n",
       "<span class=\"label\">Planetary Nomenclature</span>\n",
       "</a>\n",
       "<a class=\"icon\" href=\"https://astrogeology.usgs.gov/tools/map-a-planet-2\" title=\"Map a Planet 2\">\n",
       "<img alt=\"Map-a-Planet Logo\" height=\"112\" src=\"/images/logos/map_a_planet_2x.jpg\" width=\"112\"/>\n",
       "<span class=\"label\">Map a Planet 2</span>\n",
       "</a>\n",
       "<a class=\"icon\" href=\"https://www.usgs.gov/centers/astrogeo-sc/science/cartography-and-imaging-sciences-node-nasa-planetary-data-system\" title=\"PDS Cartography and Imaging Science Node\">\n",
       "<img alt=\"PDS Logo\" height=\"112\" src=\"/images/pds_logo-black-web.png\"/>\n",
       "<span class=\"label\">PDS Cartography and Imaging Science Node</span>\n",
       "</a>\n",
       "<!--\n",
       "\t\t\t\t\t\t<a title=\"Astropedia Search\" href=\"/search\" class=\"icon\">\n",
       "\t\t\t\t\t\t\t<img alt=\"Astropedia Logo\" height=\"112\" width=\"112\" src=\"/images/logos/astropedia_2x.jpg\"/>\n",
       "\t\t\t\t\t\t\t<span class=\"label\">Astropedia</span>\n",
       "\t\t\t\t\t\t</a>\n",
       "-->\n",
       "<a class=\"icon\" href=\"https://www.usgs.gov/centers/astrogeo-sc/science/regional-planetary-image-facility-rpif\" title=\"Regional Planetary Image Facility\">\n",
       "<img alt=\"RPIF Logo\" height=\"112\" src=\"/images/logos/rpif_2x.jpg\" width=\"112\"/>\n",
       "<span class=\"label\">RPIF</span>\n",
       "</a>\n",
       "<a class=\"icon\" href=\"\" title=\"Photogrammetry Guest Facility\">\n",
       "<img alt=\"Photogrammetry Guest Faciltiy Logo\" height=\"112\" src=\"/images/logos/photogrammetry_2x.jpg\" width=\"112\"/>\n",
       "<span class=\"label\">Photogrammetry Guest Facility</span>\n",
       "</a>\n",
       "<a class=\"icon\" href=\"http://pilot.wr.usgs.gov\" title=\"Planetary Image Locator Tool\">\n",
       "<img alt=\"Pilot Logo\" height=\"112\" src=\"/images/logos/pilot_2x.jpg\" width=\"112\"/>\n",
       "<span class=\"label\">PILOT</span>\n",
       "</a>\n",
       "<a class=\"icon\" href=\"https://www.usgs.gov/centers/astrogeo-sc/science/mrctr-gis-lab\" title=\"Mapping, Remote-sensing, Cartography, Technology and Research GIS Lab\">\n",
       "<img alt=\"MRCTR GIS Lab Logo\" height=\"112\" src=\"/images/logos/mrctr_man_2x.png\" width=\"112\"/>\n",
       "<span class=\"label\">MRCTR GIS Lab</span>\n",
       "</a>\n",
       "</div>\n",
       "</div>\n",
       "<footer>\n",
       "<div class=\"left\">\n",
       "<a href=\"./search\">Search</a> |\n",
       "\t\t\t\t\t<a href=\"http://astrogeology.usgs.gov/maps/about\">About</a> |\n",
       "\t\t\t\t\t<a href=\"http://astrogeology.usgs.gov/maps/contact\">Contact</a>\n",
       "</div>\n",
       "<div class=\"right\">\n",
       "<a href=\"https://www.usgs.gov/centers/astrogeo-sc\">USGS Astrogeology Science Center</a>\n",
       "</div>\n",
       "</footer>\n",
       "</div>\n",
       "<!--\n",
       "\t\t<div class=\"credit\">\n",
       "\t\t\t<small>Background Credits: NASA/USGS</small>\n",
       "\t\t</div>\n",
       "-->\n",
       "<div class=\"page-background\" style=\"\n",
       "\t\t\tbackground:url('/images/backgrounds/mars.jpg');\n",
       "\t\t\tfilter:progid:DXImageTransform.Microsoft.AlphaImageLoader(\n",
       "\t\t\t\tsrc='/images/backgrounds/mars.jpg', sizingMethod='scale');\n",
       "\t\t\"></div>\n",
       "<script type=\"text/javascript\">\n",
       "var baseUrl = \"\";\n",
       "\n",
       "/*\n",
       "var _gaq = _gaq || [];_gaq.push(['_setAccount', 'UA-27613186-1']);_gaq.push(['_trackPageview']);(function() { var ga = document.createElement('script'); ga.type = 'text/javascript'; ga.async = true;ga.src = ('https:' == document.location.protocol ? 'https://ssl' : 'http://www') + '.google-analytics.com/ga.js'; var s = document.getElementsByTagName('script')[0]; s.parentNode.insertBefore(ga, s);})();\n",
       "*/\n",
       "\t\t</script>\n",
       "<script src=\"https://ajax.googleapis.com/ajax/libs/jquery/1.11.1/jquery.min.js\" type=\"text/javascript\"></script>\n",
       "<script src=\"//ajax.googleapis.com/ajax/libs/jqueryui/1.11.3/jquery-ui.min.js\" type=\"text/javascript\"></script>\n",
       "<script src=\"/js/general.js\" type=\"text/javascript\"></script>\n",
       "</body></html>"
      ]
     },
     "execution_count": 39,
     "metadata": {},
     "output_type": "execute_result"
    }
   ],
   "source": [
    "#Mars Hemispheres\n",
    "mars_hemispheres = 'https://astrogeology.usgs.gov/search/results?q=hemisphere+enhanced&k1=target&v1=Mars'\n",
    "\n",
    "executable_path = {'executable_path': ChromeDriverManager().install()}\n",
    "browser = Browser('chrome', **executable_path, headless=False)\n",
    "\n",
    "browser.visit(mars_hemispheres)\n",
    "\n",
    "html = browser.html\n",
    "soup = BeautifulSoup(html, \"html.parser\")\n",
    "soup"
   ]
  },
  {
   "cell_type": "code",
   "execution_count": 41,
   "metadata": {},
   "outputs": [
    {
     "data": {
      "text/plain": [
       "[{'title': 'Valles Marineris Hemisphere Enhanced',\n",
       "  'img_url': 'https://astrogeology.usgs.gov/cache/images/b3c7c6c9138f57b4756be9b9c43e3a48_valles_marineris_enhanced.tif_full.jpg'},\n",
       " {'title': 'Valles Marineris Hemisphere Enhanced',\n",
       "  'img_url': 'https://astrogeology.usgs.gov/cache/images/b3c7c6c9138f57b4756be9b9c43e3a48_valles_marineris_enhanced.tif_full.jpg'},\n",
       " {'title': 'Valles Marineris Hemisphere Enhanced',\n",
       "  'img_url': 'https://astrogeology.usgs.gov/cache/images/b3c7c6c9138f57b4756be9b9c43e3a48_valles_marineris_enhanced.tif_full.jpg'},\n",
       " {'title': 'Valles Marineris Hemisphere Enhanced',\n",
       "  'img_url': 'https://astrogeology.usgs.gov/cache/images/b3c7c6c9138f57b4756be9b9c43e3a48_valles_marineris_enhanced.tif_full.jpg'}]"
      ]
     },
     "execution_count": 41,
     "metadata": {},
     "output_type": "execute_result"
    }
   ],
   "source": [
    "hemisphere_image_urls = []\n",
    "\n",
    "hemi_search = soup.find_all('div', class_=\"item\")\n",
    "\n",
    "# loop through each div above\n",
    "for hemi in range(len(hemi_search)):\n",
    "    \n",
    "    # splinter browser to obtain hemisphere link for image data\n",
    "    browser.find_by_css(\"a.product-item h3\")[hemi].click()\n",
    "    \n",
    "    html = browser.html\n",
    "    soup = BeautifulSoup(html, \"html.parser\")\n",
    "    base_url = 'https://astrogeology.usgs.gov'\n",
    "    \n",
    "    hemi_url = soup.find('img', class_=\"wide-image\")['src']\n",
    "    img_url = base_url + hemi_url\n",
    "    \n",
    "    img_title = browser.find_by_css('.title').text\n",
    "\n",
    "    # Adding desired data to variable\n",
    "    hemisphere_image_urls.append({\"title\": img_title,\n",
    "                              \"img_url\": img_url})\n",
    "    \n",
    "    # Browser back to main page\n",
    "    browser.back()\n",
    "    \n",
    "hemisphere_image_urls"
   ]
  },
  {
   "cell_type": "code",
   "execution_count": null,
   "metadata": {},
   "outputs": [],
   "source": []
  }
 ],
 "metadata": {
  "kernelspec": {
   "display_name": "Python 3",
   "language": "python",
   "name": "python3"
  },
  "language_info": {
   "codemirror_mode": {
    "name": "ipython",
    "version": 3
   },
   "file_extension": ".py",
   "mimetype": "text/x-python",
   "name": "python",
   "nbconvert_exporter": "python",
   "pygments_lexer": "ipython3",
   "version": "3.8.5"
  }
 },
 "nbformat": 4,
 "nbformat_minor": 4
}
